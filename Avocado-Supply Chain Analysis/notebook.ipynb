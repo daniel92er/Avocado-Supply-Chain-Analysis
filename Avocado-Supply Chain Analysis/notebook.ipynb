{
 "cells": [
  {
   "cell_type": "markdown",
   "id": "32ec92a0-c21a-45b8-ac63-9f9c698a1291",
   "metadata": {},
   "source": [
    "# What's in an Avocado Toast: A Supply Chain Analysis\n",
    "\n",
    "![](avocado_wallpaper.jpeg)\n",
    "\n",
    "You find yourself in London, crafting a delectable avocado toast, a dish that has risen dramatically in popularity on breakfast menus since the 2010s. This straightforward recipe requires just five ingredients: a ripe avocado, half a lemon, a generous pinch of salt flakes, two slices of sourdough bread, and a good drizzle of extra virgin olive oil. Most of these ingredients are now staples in grocery stores, and as you will find with this project, that is no small feat!\n",
    "\n",
    "In this project, you'll conduct a supply chain analysis of three ingredients used in avocado toast using the Open Food Facts database. This database contains extensive, openly-sourced information on various foods, including their origins. Through this analysis, you will gain an in-depth understanding of the complex supply chain involved in producing a single dish.\n",
    "\n",
    "Three pairs of files are provided in the data folder:\n",
    "- A CSV file for each ingredient, such as `avocado.csv`, with data about each food item and countries of origin.\n",
    "- A TXT file for each ingredient, such as `relevant_avocado_categories`, containing only the category tags of interest for that food.\n",
    "\n",
    "Here are some other key points about these files:\n",
    "- Some of the rows of data in each of the three CSV files do not contain relevant data for your investigation. In each dataset, you will need to filter out rows with irrelevant data, based on values in the `categories_tags` column. Examples of categories are fruits, vegetables, and fruit-based oils. Filter the DataFrame to include only rows where `categories_tags` contains one of the tags in the relevant categories for that ingredient.\n",
    "- Each row of data usually has multiple category tags in the `categories_tags` column.\n",
    "There is a column in each CSV file called `origins_tags`, which contains strings for the country of origin of each item.\n",
    "\n",
    "After completing this project, you'll be armed with a list of ingredients and their countries of origin and be well-positioned to launch into other analyses that explore how long, on average, these ingredients spend at sea.\n",
    "\n",
    "[Open Food Facts database](https://world.openfoodfacts.org/)"
   ]
  },
  {
   "cell_type": "code",
   "execution_count": 73,
   "id": "339a6352-aed5-4b9e-a48f-1b91a7db9adb",
   "metadata": {
    "executionCancelledAt": null,
    "executionTime": 12,
    "lastExecutedAt": 1733913447833,
    "lastExecutedByKernel": "d63be3d7-23b2-4de7-9cf6-1f2d8a38d224",
    "lastScheduledRunId": null,
    "lastSuccessfullyExecutedCode": "import pandas as pd\nimport os\nprint(os.listdir())",
    "outputsMetadata": {
     "0": {
      "height": 38,
      "type": "stream"
     },
     "1": {
      "height": 239,
      "type": "dataFrame"
     }
    }
   },
   "outputs": [
    {
     "name": "stdout",
     "output_type": "stream",
     "text": [
      "['avocado_wallpaper.jpeg', 'data', 'notebook.ipynb']\n"
     ]
    }
   ],
   "source": [
    "import pandas as pd\n",
    "import os\n",
    "print(os.listdir())"
   ]
  },
  {
   "cell_type": "code",
   "execution_count": 74,
   "id": "8fcde78f-5752-440f-9782-1d95a1f9c73e",
   "metadata": {
    "executionCancelledAt": null,
    "executionTime": 147,
    "lastExecutedAt": 1733913447981,
    "lastExecutedByKernel": "d63be3d7-23b2-4de7-9cf6-1f2d8a38d224",
    "lastScheduledRunId": null,
    "lastSuccessfullyExecutedCode": "avocado_df = pd.read_csv(\"data/avocado.csv\", sep='\\t')\navocado_df.head()",
    "outputsMetadata": {
     "0": {
      "height": 239,
      "type": "dataFrame"
     }
    }
   },
   "outputs": [
    {
     "data": {
      "application/com.datacamp.data-table.v2+json": {
       "table": {
        "data": {
         "alcohol_unit": [
          null,
          null,
          null,
          null,
          null
         ],
         "alcohol_value": [
          null,
          null,
          null,
          null,
          null
         ],
         "allergens": [
          null,
          null,
          null,
          "Sesame seeds",
          null
         ],
         "allergens_tags": [
          null,
          null,
          null,
          "en:sesame-seeds",
          null
         ],
         "brand_owner": [
          null,
          null,
          null,
          null,
          null
         ],
         "brands": [
          "Naturalia",
          "Zweifel",
          "Tartex",
          null,
          null
         ],
         "brands_tags": [
          "naturalia",
          "zweifel",
          "tartex",
          null,
          null
         ],
         "calcium_unit": [
          null,
          null,
          null,
          null,
          null
         ],
         "calcium_value": [
          null,
          null,
          null,
          null,
          null
         ],
         "carbohydrates_unit": [
          "g",
          "g",
          "g",
          "g",
          null
         ],
         "carbohydrates_value": [
          0,
          56,
          12,
          76.6666666667,
          null
         ],
         "categories": [
          "Aliments et boissons à base de végétaux, Aliments d'origine végétale, Matières grasses, Matières grasses végétales, Huiles, Huiles de fruits et graines de fruits",
          "Snacks, Salty snacks, Appetizers, Chips and fries, Crisps",
          "de:Abendbrotsufstrich",
          null,
          null
         ],
         "categories_tags": [
          "en:plant-based-foods-and-beverages,en:plant-based-foods,en:fats,en:vegetable-fats,en:vegetable-oils,en:fruit-and-fruit-seed-oils",
          "en:snacks,en:salty-snacks,en:appetizers,en:chips-and-fries,en:crisps",
          "de:abendbrotsufstrich",
          null,
          null
         ],
         "cholesterol_unit": [
          null,
          null,
          null,
          null,
          null
         ],
         "cholesterol_value": [
          null,
          null,
          null,
          null,
          null
         ],
         "code": [
          "0059749979702",
          "7610095131409",
          "4005514005578",
          "0879890002513",
          "0223086613685"
         ],
         "copper_unit": [
          null,
          null,
          null,
          null,
          null
         ],
         "copper_value": [
          null,
          null,
          null,
          null,
          null
         ],
         "countries": [
          "Canada",
          "Switzerland, World",
          "Germany",
          "United States",
          "United States"
         ],
         "countries_tags": [
          "en:canada",
          "en:switzerland,en:world",
          "en:germany",
          "en:united-states",
          "en:united-states"
         ],
         "data_sources": [
          "App - yuka, Apps",
          "App - Yuka, Apps, Producers, Producer - zweifel",
          "App - yuka, Apps, App - smoothie-openfoodfacts",
          "App - Yuka, Apps, App - InFood",
          "App - Yuka, Apps"
         ],
         "emb_codes": [
          null,
          null,
          null,
          null,
          null
         ],
         "emb_codes_tags": [
          null,
          null,
          null,
          null,
          null
         ],
         "energy-from-fat_unit": [
          null,
          null,
          null,
          null,
          null
         ],
         "energy-from-fat_value": [
          null,
          null,
          null,
          null,
          null
         ],
         "energy-kcal_unit": [
          "kcal",
          "kcal",
          "kcal",
          "kcal",
          null
         ],
         "energy-kcal_value": [
          100,
          479,
          151,
          433.3333333333,
          null
         ],
         "energy-kj_unit": [
          null,
          null,
          null,
          null,
          null
         ],
         "energy-kj_value": [
          null,
          null,
          null,
          null,
          null
         ],
         "energy_unit": [
          "kcal",
          "kcal",
          "kcal",
          "kcal",
          null
         ],
         "energy_value": [
          100,
          479,
          151,
          433.3333333333,
          null
         ],
         "fat_unit": [
          "g",
          "g",
          "g",
          "g",
          null
         ],
         "fat_value": [
          100,
          24,
          8.7,
          8.3333333333,
          null
         ],
         "fiber_unit": [
          "g",
          "g",
          "g",
          "g",
          null
         ],
         "fiber_value": [
          0,
          6.5,
          4.6,
          3.3333333333,
          null
         ],
         "folates_unit": [
          null,
          null,
          null,
          null,
          null
         ],
         "folates_value": [
          null,
          null,
          null,
          null,
          null
         ],
         "fruits-vegetables-nuts_unit": [
          null,
          null,
          null,
          null,
          null
         ],
         "fruits-vegetables-nuts_value": [
          null,
          null,
          null,
          null,
          null
         ],
         "generic_name_de": [
          null,
          null,
          null,
          null,
          null
         ],
         "generic_name_en": [
          null,
          null,
          null,
          null,
          null
         ],
         "generic_name_es": [
          null,
          null,
          null,
          null,
          null
         ],
         "generic_name_fr": [
          null,
          null,
          null,
          null,
          null
         ],
         "generic_name_sv": [
          null,
          null,
          null,
          null,
          null
         ],
         "index": [
          0,
          1,
          2,
          3,
          4
         ],
         "ingredients_text_de": [
          null,
          null,
          null,
          null,
          null
         ],
         "ingredients_text_en": [
          null,
          null,
          null,
          "rice flour potato starch, chili line seasoning maltodextrin, spices (chile pepper, red pepper), sugar, citre juice powder maltodextrin, lime juice solids, lime oil), yeast extract, union powder, garlic powder, crystallized lime (citric acid, lime oil, lime juicej, natural flavors, extractives of paprika (color), sunflower oil), avocado oil, avocado powder (avocado, maltodextrin, modified potato starch, citric acid,  ascorbic acid (to preserve freshness) tocopherols (to preserve freshness spinach powder (color), dried onion, poppy seeds, rolled oats, sesame seeds, garlic powder, flax seeds, millet, natural flavor, &quot;adds a trimal amount of saturated fat, contains: sesame th foods, inc,, 2134 harlem rd,, loves park, il 61111 questions or comments? call us toll free at 1-888-574-7737 or visit crunchmaster,com m 0% 2% 0% ^ bacon , ear mi a inc les a ci certi glu free gfco,or u",
          null
         ],
         "ingredients_text_es": [
          null,
          null,
          null,
          null,
          null
         ],
         "ingredients_text_fi": [
          null,
          null,
          null,
          null,
          null
         ],
         "ingredients_text_fr": [
          null,
          null,
          null,
          null,
          null
         ],
         "ingredients_text_id": [
          null,
          null,
          null,
          null,
          null
         ],
         "ingredients_text_it": [
          null,
          null,
          null,
          null,
          null
         ],
         "ingredients_text_lt": [
          null,
          null,
          null,
          null,
          null
         ],
         "ingredients_text_lv": [
          null,
          null,
          null,
          null,
          null
         ],
         "ingredients_text_nb": [
          null,
          null,
          null,
          null,
          null
         ],
         "ingredients_text_nl": [
          null,
          null,
          null,
          null,
          null
         ],
         "ingredients_text_pl": [
          null,
          null,
          null,
          null,
          null
         ],
         "ingredients_text_ro": [
          null,
          null,
          null,
          null,
          null
         ],
         "ingredients_text_sv": [
          null,
          null,
          null,
          null,
          null
         ],
         "insoluble-fiber_unit": [
          null,
          null,
          null,
          null,
          null
         ],
         "insoluble-fiber_value": [
          null,
          null,
          null,
          null,
          null
         ],
         "iron_unit": [
          null,
          null,
          null,
          null,
          null
         ],
         "iron_value": [
          null,
          null,
          null,
          null,
          null
         ],
         "labels": [
          null,
          "Vegetarian, Vegan",
          "Organic, EU Organic, EG-Öko-Verordnung",
          null,
          null
         ],
         "labels_tags": [
          null,
          "en:vegetarian,en:vegan",
          "en:organic,en:eu-organic,en:eg-oko-verordnung",
          null,
          null
         ],
         "lc": [
          "fr",
          "en",
          "en",
          "en",
          "en"
         ],
         "link": [
          null,
          null,
          null,
          null,
          null
         ],
         "magnesium_unit": [
          null,
          null,
          null,
          null,
          null
         ],
         "magnesium_value": [
          null,
          null,
          null,
          null,
          null
         ],
         "manganese_unit": [
          null,
          null,
          null,
          null,
          null
         ],
         "manganese_value": [
          null,
          null,
          null,
          null,
          null
         ],
         "manufacturing_places": [
          null,
          null,
          null,
          null,
          null
         ],
         "manufacturing_places_tags": [
          null,
          null,
          null,
          null,
          null
         ],
         "monounsaturated-fat_unit": [
          null,
          null,
          null,
          null,
          null
         ],
         "monounsaturated-fat_value": [
          null,
          null,
          null,
          null,
          null
         ],
         "no_nutrition_data": [
          null,
          null,
          null,
          null,
          null
         ],
         "nutrition_data_per": [
          "100g",
          "100g",
          "100g",
          "100g",
          "100g"
         ],
         "nutrition_data_prepared_per": [
          "100g",
          "100g",
          "100g",
          "100g",
          "100g"
         ],
         "obsolete": [
          0,
          1,
          0,
          0,
          0
         ],
         "obsolete_since_date": [
          null,
          "2023/03/21",
          null,
          null,
          null
         ],
         "off:ecoscore_data.adjustments.origins_of_ingredients.value": [
          -5,
          -5,
          -5,
          -5,
          -5
         ],
         "off:ecoscore_data.adjustments.packaging.non_recyclable_and_non_biodegradable_materials": [
          1,
          1,
          1,
          1,
          1
         ],
         "off:ecoscore_data.adjustments.packaging.value": [
          -15,
          -15,
          -15,
          -15,
          -15
         ],
         "off:ecoscore_data.adjustments.production_system.value": [
          0,
          0,
          15,
          0,
          0
         ],
         "off:ecoscore_data.adjustments.threatened_species.value": [
          null,
          null,
          null,
          null,
          null
         ],
         "off:ecoscore_data.agribalyse.code": [
          null,
          null,
          null,
          null,
          null
         ],
         "off:ecoscore_data.missing_key_data": [
          1,
          1,
          1,
          1,
          1
         ],
         "off:ecoscore_grade": [
          "unknown",
          "unknown",
          "unknown",
          "unknown",
          "unknown"
         ],
         "off:ecoscore_score": [
          null,
          null,
          null,
          null,
          null
         ],
         "off:food_groups": [
          "en:fats",
          "en:appetizers",
          null,
          null,
          null
         ],
         "off:food_groups_tags": [
          "en:fats-and-sauces,en:fats",
          "en:salty-snacks,en:appetizers",
          null,
          null,
          null
         ],
         "off:nova_groups": [
          2,
          null,
          null,
          4,
          null
         ],
         "off:nova_groups_tags": [
          "en:2-processed-culinary-ingredients",
          "unknown",
          "unknown",
          "en:4-ultra-processed-food-and-drink-products",
          "unknown"
         ],
         "off:nutriscore_grade": [
          "b",
          "c",
          "b",
          null,
          null
         ],
         "off:nutriscore_score": [
          1,
          8,
          0,
          null,
          null
         ],
         "omega-3-fat_unit": [
          null,
          null,
          null,
          null,
          null
         ],
         "omega-3-fat_value": [
          null,
          null,
          null,
          null,
          null
         ],
         "omega-6-fat_unit": [
          null,
          null,
          null,
          null,
          null
         ],
         "omega-6-fat_value": [
          null,
          null,
          null,
          null,
          null
         ],
         "omega-9-fat_unit": [
          null,
          null,
          null,
          null,
          null
         ],
         "omega-9-fat_value": [
          null,
          null,
          null,
          null,
          null
         ],
         "origin_en": [
          null,
          null,
          null,
          null,
          null
         ],
         "origin_fr": [
          null,
          null,
          null,
          null,
          null
         ],
         "origins": [
          null,
          null,
          null,
          null,
          null
         ],
         "origins_tags": [
          null,
          null,
          null,
          null,
          null
         ],
         "packaging": [
          null,
          null,
          null,
          null,
          null
         ],
         "packaging_tags": [
          null,
          null,
          null,
          null,
          null
         ],
         "pantothenic-acid_unit": [
          null,
          null,
          null,
          null,
          null
         ],
         "pantothenic-acid_value": [
          null,
          null,
          null,
          null,
          null
         ],
         "phosphorus_unit": [
          null,
          null,
          null,
          null,
          null
         ],
         "phosphorus_value": [
          null,
          null,
          null,
          null,
          null
         ],
         "phylloquinone_unit": [
          null,
          null,
          null,
          null,
          null
         ],
         "phylloquinone_value": [
          null,
          null,
          null,
          null,
          null
         ],
         "polyunsaturated-fat_unit": [
          null,
          null,
          null,
          null,
          null
         ],
         "polyunsaturated-fat_value": [
          null,
          null,
          null,
          null,
          null
         ],
         "potassium_unit": [
          null,
          null,
          null,
          null,
          null
         ],
         "potassium_value": [
          null,
          null,
          null,
          null,
          null
         ],
         "product_name_de": [
          null,
          null,
          null,
          null,
          null
         ],
         "product_name_el": [
          null,
          null,
          null,
          null,
          null
         ],
         "product_name_en": [
          null,
          null,
          "Gelbe Linse Avocado Brotaufstrich",
          "Avocado toast chili lime",
          "Avocado"
         ],
         "product_name_es": [
          null,
          null,
          null,
          null,
          null
         ],
         "product_name_fi": [
          null,
          null,
          null,
          null,
          null
         ],
         "product_name_fr": [
          "Naturalia Avocado Oil",
          "Avocado Bowl chips",
          null,
          null,
          null
         ],
         "product_name_id": [
          null,
          null,
          null,
          null,
          null
         ],
         "product_name_it": [
          null,
          null,
          null,
          null,
          null
         ],
         "product_name_lt": [
          null,
          null,
          null,
          null,
          null
         ],
         "product_name_lv": [
          null,
          null,
          null,
          null,
          null
         ],
         "product_name_nb": [
          null,
          null,
          null,
          null,
          null
         ],
         "product_name_nl": [
          null,
          null,
          null,
          null,
          null
         ],
         "product_name_pl": [
          null,
          null,
          null,
          null,
          null
         ],
         "product_name_ro": [
          null,
          null,
          null,
          null,
          null
         ],
         "product_name_sl": [
          null,
          null,
          null,
          null,
          null
         ],
         "product_name_sv": [
          null,
          null,
          null,
          null,
          null
         ],
         "proteins_unit": [
          "g",
          "g",
          "g",
          "g",
          null
         ],
         "proteins_value": [
          0,
          6.8,
          3.9,
          6.6666666667,
          null
         ],
         "quantity": [
          null,
          null,
          null,
          null,
          null
         ],
         "salt_unit": [
          "g",
          "g",
          "g",
          "g",
          null
         ],
         "salt_value": [
          0,
          1.7,
          0.94,
          1.5833333333,
          null
         ],
         "saturated-fat_unit": [
          "g",
          "g",
          "g",
          "g",
          null
         ],
         "saturated-fat_value": [
          0,
          1.7,
          0.8,
          0,
          null
         ],
         "selenium_unit": [
          null,
          null,
          null,
          null,
          null
         ],
         "selenium_value": [
          null,
          null,
          null,
          null,
          null
         ],
         "serving_size": [
          null,
          null,
          null,
          null,
          null
         ],
         "sodium_unit": [
          "g",
          "g",
          "g",
          "g",
          null
         ],
         "sodium_value": [
          0,
          0.68,
          0.376,
          0.6333333333,
          null
         ],
         "soluble-fiber_unit": [
          null,
          null,
          null,
          null,
          null
         ],
         "soluble-fiber_value": [
          null,
          null,
          null,
          null,
          null
         ],
         "sources_fields:org-database-usda:available_date": [
          null,
          null,
          null,
          null,
          null
         ],
         "sources_fields:org-database-usda:fdc_category": [
          null,
          null,
          null,
          null,
          null
         ],
         "sources_fields:org-database-usda:fdc_data_source": [
          null,
          null,
          null,
          null,
          null
         ],
         "sources_fields:org-database-usda:fdc_id": [
          null,
          null,
          null,
          null,
          null
         ],
         "sources_fields:org-database-usda:modified_date": [
          null,
          null,
          null,
          null,
          null
         ],
         "sources_fields:org-database-usda:publication_date": [
          null,
          null,
          null,
          null,
          null
         ],
         "stores": [
          null,
          null,
          null,
          null,
          null
         ],
         "stores_tags": [
          null,
          null,
          null,
          null,
          null
         ],
         "sugars_unit": [
          "g",
          "g",
          "g",
          "g",
          null
         ],
         "sugars_value": [
          0,
          3.2,
          4.7,
          3.3333333333,
          null
         ],
         "traces": [
          null,
          null,
          null,
          null,
          null
         ],
         "traces_tags": [
          null,
          null,
          null,
          null,
          null
         ],
         "trans-fat_unit": [
          null,
          null,
          null,
          null,
          null
         ],
         "trans-fat_value": [
          null,
          null,
          null,
          null,
          null
         ],
         "vitamin-a_unit": [
          null,
          null,
          null,
          null,
          null
         ],
         "vitamin-a_value": [
          null,
          null,
          null,
          null,
          null
         ],
         "vitamin-b12_unit": [
          null,
          null,
          null,
          null,
          null
         ],
         "vitamin-b12_value": [
          null,
          null,
          null,
          null,
          null
         ],
         "vitamin-b1_unit": [
          null,
          null,
          null,
          null,
          null
         ],
         "vitamin-b1_value": [
          null,
          null,
          null,
          null,
          null
         ],
         "vitamin-b2_unit": [
          null,
          null,
          null,
          null,
          null
         ],
         "vitamin-b2_value": [
          null,
          null,
          null,
          null,
          null
         ],
         "vitamin-b6_unit": [
          null,
          null,
          null,
          null,
          null
         ],
         "vitamin-b6_value": [
          null,
          null,
          null,
          null,
          null
         ],
         "vitamin-b9_unit": [
          null,
          null,
          null,
          null,
          null
         ],
         "vitamin-b9_value": [
          null,
          null,
          null,
          null,
          null
         ],
         "vitamin-c_unit": [
          null,
          null,
          null,
          null,
          null
         ],
         "vitamin-c_value": [
          null,
          null,
          null,
          null,
          null
         ],
         "vitamin-d_unit": [
          null,
          null,
          null,
          null,
          null
         ],
         "vitamin-d_value": [
          null,
          null,
          null,
          null,
          null
         ],
         "vitamin-e_unit": [
          null,
          null,
          null,
          null,
          null
         ],
         "vitamin-e_value": [
          null,
          null,
          null,
          null,
          null
         ],
         "vitamin-k_unit": [
          null,
          null,
          null,
          null,
          null
         ],
         "vitamin-k_value": [
          null,
          null,
          null,
          null,
          null
         ],
         "vitamin-pp_unit": [
          null,
          null,
          null,
          null,
          null
         ],
         "vitamin-pp_value": [
          null,
          null,
          null,
          null,
          null
         ],
         "zinc_unit": [
          null,
          null,
          null,
          null,
          null
         ],
         "zinc_value": [
          null,
          null,
          null,
          null,
          null
         ]
        },
        "schema": {
         "fields": [
          {
           "name": "index",
           "type": "integer"
          },
          {
           "name": "code",
           "type": "string"
          },
          {
           "name": "lc",
           "type": "string"
          },
          {
           "name": "product_name_de",
           "type": "string"
          },
          {
           "name": "product_name_el",
           "type": "string"
          },
          {
           "name": "product_name_en",
           "type": "string"
          },
          {
           "name": "product_name_es",
           "type": "string"
          },
          {
           "name": "product_name_fi",
           "type": "string"
          },
          {
           "name": "product_name_fr",
           "type": "string"
          },
          {
           "name": "product_name_id",
           "type": "string"
          },
          {
           "name": "product_name_it",
           "type": "string"
          },
          {
           "name": "product_name_lt",
           "type": "string"
          },
          {
           "name": "product_name_lv",
           "type": "string"
          },
          {
           "name": "product_name_nb",
           "type": "string"
          },
          {
           "name": "product_name_nl",
           "type": "string"
          },
          {
           "name": "product_name_pl",
           "type": "string"
          },
          {
           "name": "product_name_ro",
           "type": "string"
          },
          {
           "name": "product_name_sl",
           "type": "string"
          },
          {
           "name": "product_name_sv",
           "type": "string"
          },
          {
           "name": "generic_name_de",
           "type": "string"
          },
          {
           "name": "generic_name_en",
           "type": "string"
          },
          {
           "name": "generic_name_es",
           "type": "string"
          },
          {
           "name": "generic_name_fr",
           "type": "string"
          },
          {
           "name": "generic_name_sv",
           "type": "string"
          },
          {
           "name": "quantity",
           "type": "string"
          },
          {
           "name": "serving_size",
           "type": "string"
          },
          {
           "name": "packaging",
           "type": "string"
          },
          {
           "name": "packaging_tags",
           "type": "string"
          },
          {
           "name": "brands",
           "type": "string"
          },
          {
           "name": "brands_tags",
           "type": "string"
          },
          {
           "name": "brand_owner",
           "type": "string"
          },
          {
           "name": "categories",
           "type": "string"
          },
          {
           "name": "categories_tags",
           "type": "string"
          },
          {
           "name": "labels",
           "type": "string"
          },
          {
           "name": "labels_tags",
           "type": "string"
          },
          {
           "name": "countries",
           "type": "string"
          },
          {
           "name": "countries_tags",
           "type": "string"
          },
          {
           "name": "stores",
           "type": "string"
          },
          {
           "name": "stores_tags",
           "type": "string"
          },
          {
           "name": "obsolete",
           "type": "integer"
          },
          {
           "name": "obsolete_since_date",
           "type": "string"
          },
          {
           "name": "origins",
           "type": "string"
          },
          {
           "name": "origins_tags",
           "type": "string"
          },
          {
           "name": "origin_en",
           "type": "string"
          },
          {
           "name": "origin_fr",
           "type": "string"
          },
          {
           "name": "manufacturing_places",
           "type": "string"
          },
          {
           "name": "manufacturing_places_tags",
           "type": "string"
          },
          {
           "name": "emb_codes",
           "type": "string"
          },
          {
           "name": "emb_codes_tags",
           "type": "string"
          },
          {
           "name": "ingredients_text_de",
           "type": "string"
          },
          {
           "name": "ingredients_text_en",
           "type": "string"
          },
          {
           "name": "ingredients_text_es",
           "type": "string"
          },
          {
           "name": "ingredients_text_fi",
           "type": "string"
          },
          {
           "name": "ingredients_text_fr",
           "type": "string"
          },
          {
           "name": "ingredients_text_id",
           "type": "string"
          },
          {
           "name": "ingredients_text_it",
           "type": "string"
          },
          {
           "name": "ingredients_text_lt",
           "type": "string"
          },
          {
           "name": "ingredients_text_lv",
           "type": "string"
          },
          {
           "name": "ingredients_text_nb",
           "type": "string"
          },
          {
           "name": "ingredients_text_nl",
           "type": "string"
          },
          {
           "name": "ingredients_text_pl",
           "type": "string"
          },
          {
           "name": "ingredients_text_ro",
           "type": "string"
          },
          {
           "name": "ingredients_text_sv",
           "type": "string"
          },
          {
           "name": "allergens",
           "type": "string"
          },
          {
           "name": "allergens_tags",
           "type": "string"
          },
          {
           "name": "traces",
           "type": "string"
          },
          {
           "name": "traces_tags",
           "type": "string"
          },
          {
           "name": "no_nutrition_data",
           "type": "string"
          },
          {
           "name": "nutrition_data_per",
           "type": "string"
          },
          {
           "name": "nutrition_data_prepared_per",
           "type": "string"
          },
          {
           "name": "energy-kj_value",
           "type": "number"
          },
          {
           "name": "energy-kj_unit",
           "type": "string"
          },
          {
           "name": "energy-kcal_value",
           "type": "number"
          },
          {
           "name": "energy-kcal_unit",
           "type": "string"
          },
          {
           "name": "fat_value",
           "type": "number"
          },
          {
           "name": "fat_unit",
           "type": "string"
          },
          {
           "name": "saturated-fat_value",
           "type": "number"
          },
          {
           "name": "saturated-fat_unit",
           "type": "string"
          },
          {
           "name": "carbohydrates_value",
           "type": "number"
          },
          {
           "name": "carbohydrates_unit",
           "type": "string"
          },
          {
           "name": "sugars_value",
           "type": "number"
          },
          {
           "name": "sugars_unit",
           "type": "string"
          },
          {
           "name": "fiber_value",
           "type": "number"
          },
          {
           "name": "fiber_unit",
           "type": "string"
          },
          {
           "name": "proteins_value",
           "type": "number"
          },
          {
           "name": "proteins_unit",
           "type": "string"
          },
          {
           "name": "salt_value",
           "type": "number"
          },
          {
           "name": "salt_unit",
           "type": "string"
          },
          {
           "name": "sodium_value",
           "type": "number"
          },
          {
           "name": "sodium_unit",
           "type": "string"
          },
          {
           "name": "alcohol_value",
           "type": "number"
          },
          {
           "name": "alcohol_unit",
           "type": "string"
          },
          {
           "name": "energy_value",
           "type": "number"
          },
          {
           "name": "energy_unit",
           "type": "string"
          },
          {
           "name": "energy-from-fat_value",
           "type": "number"
          },
          {
           "name": "energy-from-fat_unit",
           "type": "string"
          },
          {
           "name": "monounsaturated-fat_value",
           "type": "number"
          },
          {
           "name": "monounsaturated-fat_unit",
           "type": "string"
          },
          {
           "name": "polyunsaturated-fat_value",
           "type": "number"
          },
          {
           "name": "polyunsaturated-fat_unit",
           "type": "string"
          },
          {
           "name": "omega-3-fat_value",
           "type": "number"
          },
          {
           "name": "omega-3-fat_unit",
           "type": "string"
          },
          {
           "name": "omega-6-fat_value",
           "type": "number"
          },
          {
           "name": "omega-6-fat_unit",
           "type": "string"
          },
          {
           "name": "omega-9-fat_value",
           "type": "number"
          },
          {
           "name": "omega-9-fat_unit",
           "type": "string"
          },
          {
           "name": "trans-fat_value",
           "type": "number"
          },
          {
           "name": "trans-fat_unit",
           "type": "string"
          },
          {
           "name": "cholesterol_value",
           "type": "number"
          },
          {
           "name": "cholesterol_unit",
           "type": "string"
          },
          {
           "name": "soluble-fiber_value",
           "type": "number"
          },
          {
           "name": "soluble-fiber_unit",
           "type": "string"
          },
          {
           "name": "insoluble-fiber_value",
           "type": "number"
          },
          {
           "name": "insoluble-fiber_unit",
           "type": "string"
          },
          {
           "name": "vitamin-a_value",
           "type": "number"
          },
          {
           "name": "vitamin-a_unit",
           "type": "string"
          },
          {
           "name": "vitamin-d_value",
           "type": "number"
          },
          {
           "name": "vitamin-d_unit",
           "type": "string"
          },
          {
           "name": "vitamin-e_value",
           "type": "number"
          },
          {
           "name": "vitamin-e_unit",
           "type": "string"
          },
          {
           "name": "vitamin-k_value",
           "type": "number"
          },
          {
           "name": "vitamin-k_unit",
           "type": "string"
          },
          {
           "name": "vitamin-c_value",
           "type": "number"
          },
          {
           "name": "vitamin-c_unit",
           "type": "string"
          },
          {
           "name": "vitamin-b1_value",
           "type": "number"
          },
          {
           "name": "vitamin-b1_unit",
           "type": "string"
          },
          {
           "name": "vitamin-b2_value",
           "type": "number"
          },
          {
           "name": "vitamin-b2_unit",
           "type": "string"
          },
          {
           "name": "vitamin-pp_value",
           "type": "number"
          },
          {
           "name": "vitamin-pp_unit",
           "type": "string"
          },
          {
           "name": "vitamin-b6_value",
           "type": "number"
          },
          {
           "name": "vitamin-b6_unit",
           "type": "string"
          },
          {
           "name": "vitamin-b9_value",
           "type": "number"
          },
          {
           "name": "vitamin-b9_unit",
           "type": "string"
          },
          {
           "name": "folates_value",
           "type": "number"
          },
          {
           "name": "folates_unit",
           "type": "string"
          },
          {
           "name": "vitamin-b12_value",
           "type": "number"
          },
          {
           "name": "vitamin-b12_unit",
           "type": "string"
          },
          {
           "name": "pantothenic-acid_value",
           "type": "number"
          },
          {
           "name": "pantothenic-acid_unit",
           "type": "string"
          },
          {
           "name": "potassium_value",
           "type": "number"
          },
          {
           "name": "potassium_unit",
           "type": "string"
          },
          {
           "name": "calcium_value",
           "type": "number"
          },
          {
           "name": "calcium_unit",
           "type": "string"
          },
          {
           "name": "phosphorus_value",
           "type": "number"
          },
          {
           "name": "phosphorus_unit",
           "type": "string"
          },
          {
           "name": "iron_value",
           "type": "number"
          },
          {
           "name": "iron_unit",
           "type": "string"
          },
          {
           "name": "magnesium_value",
           "type": "number"
          },
          {
           "name": "magnesium_unit",
           "type": "string"
          },
          {
           "name": "zinc_value",
           "type": "number"
          },
          {
           "name": "zinc_unit",
           "type": "string"
          },
          {
           "name": "copper_value",
           "type": "number"
          },
          {
           "name": "copper_unit",
           "type": "string"
          },
          {
           "name": "manganese_value",
           "type": "number"
          },
          {
           "name": "manganese_unit",
           "type": "string"
          },
          {
           "name": "selenium_value",
           "type": "number"
          },
          {
           "name": "selenium_unit",
           "type": "string"
          },
          {
           "name": "fruits-vegetables-nuts_value",
           "type": "number"
          },
          {
           "name": "fruits-vegetables-nuts_unit",
           "type": "number"
          },
          {
           "name": "phylloquinone_value",
           "type": "number"
          },
          {
           "name": "phylloquinone_unit",
           "type": "string"
          },
          {
           "name": "link",
           "type": "string"
          },
          {
           "name": "off:food_groups",
           "type": "string"
          },
          {
           "name": "off:food_groups_tags",
           "type": "string"
          },
          {
           "name": "off:nova_groups",
           "type": "number"
          },
          {
           "name": "off:nova_groups_tags",
           "type": "string"
          },
          {
           "name": "off:nutriscore_grade",
           "type": "string"
          },
          {
           "name": "off:nutriscore_score",
           "type": "number"
          },
          {
           "name": "off:ecoscore_grade",
           "type": "string"
          },
          {
           "name": "off:ecoscore_score",
           "type": "number"
          },
          {
           "name": "off:ecoscore_data.missing_key_data",
           "type": "number"
          },
          {
           "name": "off:ecoscore_data.agribalyse.code",
           "type": "number"
          },
          {
           "name": "off:ecoscore_data.adjustments.origins_of_ingredients.value",
           "type": "number"
          },
          {
           "name": "off:ecoscore_data.adjustments.packaging.value",
           "type": "number"
          },
          {
           "name": "off:ecoscore_data.adjustments.packaging.non_recyclable_and_non_biodegradable_materials",
           "type": "number"
          },
          {
           "name": "off:ecoscore_data.adjustments.production_system.value",
           "type": "number"
          },
          {
           "name": "off:ecoscore_data.adjustments.threatened_species.value",
           "type": "number"
          },
          {
           "name": "sources_fields:org-database-usda:available_date",
           "type": "string"
          },
          {
           "name": "sources_fields:org-database-usda:fdc_category",
           "type": "string"
          },
          {
           "name": "sources_fields:org-database-usda:fdc_data_source",
           "type": "string"
          },
          {
           "name": "sources_fields:org-database-usda:fdc_id",
           "type": "number"
          },
          {
           "name": "sources_fields:org-database-usda:modified_date",
           "type": "string"
          },
          {
           "name": "sources_fields:org-database-usda:publication_date",
           "type": "string"
          },
          {
           "name": "data_sources",
           "type": "string"
          }
         ],
         "pandas_version": "1.4.0",
         "primaryKey": [
          "index"
         ]
        }
       },
       "total_rows": 5,
       "truncation_type": null
      },
      "text/html": [
       "<div>\n",
       "<style scoped>\n",
       "    .dataframe tbody tr th:only-of-type {\n",
       "        vertical-align: middle;\n",
       "    }\n",
       "\n",
       "    .dataframe tbody tr th {\n",
       "        vertical-align: top;\n",
       "    }\n",
       "\n",
       "    .dataframe thead th {\n",
       "        text-align: right;\n",
       "    }\n",
       "</style>\n",
       "<table border=\"1\" class=\"dataframe\">\n",
       "  <thead>\n",
       "    <tr style=\"text-align: right;\">\n",
       "      <th></th>\n",
       "      <th>code</th>\n",
       "      <th>lc</th>\n",
       "      <th>product_name_de</th>\n",
       "      <th>product_name_el</th>\n",
       "      <th>product_name_en</th>\n",
       "      <th>product_name_es</th>\n",
       "      <th>product_name_fi</th>\n",
       "      <th>product_name_fr</th>\n",
       "      <th>product_name_id</th>\n",
       "      <th>product_name_it</th>\n",
       "      <th>product_name_lt</th>\n",
       "      <th>product_name_lv</th>\n",
       "      <th>product_name_nb</th>\n",
       "      <th>product_name_nl</th>\n",
       "      <th>product_name_pl</th>\n",
       "      <th>product_name_ro</th>\n",
       "      <th>product_name_sl</th>\n",
       "      <th>product_name_sv</th>\n",
       "      <th>generic_name_de</th>\n",
       "      <th>generic_name_en</th>\n",
       "      <th>generic_name_es</th>\n",
       "      <th>generic_name_fr</th>\n",
       "      <th>generic_name_sv</th>\n",
       "      <th>quantity</th>\n",
       "      <th>serving_size</th>\n",
       "      <th>packaging</th>\n",
       "      <th>packaging_tags</th>\n",
       "      <th>brands</th>\n",
       "      <th>brands_tags</th>\n",
       "      <th>brand_owner</th>\n",
       "      <th>categories</th>\n",
       "      <th>categories_tags</th>\n",
       "      <th>labels</th>\n",
       "      <th>labels_tags</th>\n",
       "      <th>countries</th>\n",
       "      <th>countries_tags</th>\n",
       "      <th>stores</th>\n",
       "      <th>stores_tags</th>\n",
       "      <th>obsolete</th>\n",
       "      <th>obsolete_since_date</th>\n",
       "      <th>...</th>\n",
       "      <th>phosphorus_unit</th>\n",
       "      <th>iron_value</th>\n",
       "      <th>iron_unit</th>\n",
       "      <th>magnesium_value</th>\n",
       "      <th>magnesium_unit</th>\n",
       "      <th>zinc_value</th>\n",
       "      <th>zinc_unit</th>\n",
       "      <th>copper_value</th>\n",
       "      <th>copper_unit</th>\n",
       "      <th>manganese_value</th>\n",
       "      <th>manganese_unit</th>\n",
       "      <th>selenium_value</th>\n",
       "      <th>selenium_unit</th>\n",
       "      <th>fruits-vegetables-nuts_value</th>\n",
       "      <th>fruits-vegetables-nuts_unit</th>\n",
       "      <th>phylloquinone_value</th>\n",
       "      <th>phylloquinone_unit</th>\n",
       "      <th>link</th>\n",
       "      <th>off:food_groups</th>\n",
       "      <th>off:food_groups_tags</th>\n",
       "      <th>off:nova_groups</th>\n",
       "      <th>off:nova_groups_tags</th>\n",
       "      <th>off:nutriscore_grade</th>\n",
       "      <th>off:nutriscore_score</th>\n",
       "      <th>off:ecoscore_grade</th>\n",
       "      <th>off:ecoscore_score</th>\n",
       "      <th>off:ecoscore_data.missing_key_data</th>\n",
       "      <th>off:ecoscore_data.agribalyse.code</th>\n",
       "      <th>off:ecoscore_data.adjustments.origins_of_ingredients.value</th>\n",
       "      <th>off:ecoscore_data.adjustments.packaging.value</th>\n",
       "      <th>off:ecoscore_data.adjustments.packaging.non_recyclable_and_non_biodegradable_materials</th>\n",
       "      <th>off:ecoscore_data.adjustments.production_system.value</th>\n",
       "      <th>off:ecoscore_data.adjustments.threatened_species.value</th>\n",
       "      <th>sources_fields:org-database-usda:available_date</th>\n",
       "      <th>sources_fields:org-database-usda:fdc_category</th>\n",
       "      <th>sources_fields:org-database-usda:fdc_data_source</th>\n",
       "      <th>sources_fields:org-database-usda:fdc_id</th>\n",
       "      <th>sources_fields:org-database-usda:modified_date</th>\n",
       "      <th>sources_fields:org-database-usda:publication_date</th>\n",
       "      <th>data_sources</th>\n",
       "    </tr>\n",
       "  </thead>\n",
       "  <tbody>\n",
       "    <tr>\n",
       "      <th>0</th>\n",
       "      <td>0059749979702</td>\n",
       "      <td>fr</td>\n",
       "      <td>NaN</td>\n",
       "      <td>NaN</td>\n",
       "      <td>NaN</td>\n",
       "      <td>NaN</td>\n",
       "      <td>NaN</td>\n",
       "      <td>Naturalia Avocado Oil</td>\n",
       "      <td>NaN</td>\n",
       "      <td>NaN</td>\n",
       "      <td>NaN</td>\n",
       "      <td>NaN</td>\n",
       "      <td>NaN</td>\n",
       "      <td>NaN</td>\n",
       "      <td>NaN</td>\n",
       "      <td>NaN</td>\n",
       "      <td>NaN</td>\n",
       "      <td>NaN</td>\n",
       "      <td>NaN</td>\n",
       "      <td>NaN</td>\n",
       "      <td>NaN</td>\n",
       "      <td>NaN</td>\n",
       "      <td>NaN</td>\n",
       "      <td>NaN</td>\n",
       "      <td>NaN</td>\n",
       "      <td>NaN</td>\n",
       "      <td>NaN</td>\n",
       "      <td>Naturalia</td>\n",
       "      <td>naturalia</td>\n",
       "      <td>NaN</td>\n",
       "      <td>Aliments et boissons à base de végétaux, Alime...</td>\n",
       "      <td>en:plant-based-foods-and-beverages,en:plant-ba...</td>\n",
       "      <td>NaN</td>\n",
       "      <td>NaN</td>\n",
       "      <td>Canada</td>\n",
       "      <td>en:canada</td>\n",
       "      <td>NaN</td>\n",
       "      <td>NaN</td>\n",
       "      <td>0</td>\n",
       "      <td>NaN</td>\n",
       "      <td>...</td>\n",
       "      <td>NaN</td>\n",
       "      <td>NaN</td>\n",
       "      <td>NaN</td>\n",
       "      <td>NaN</td>\n",
       "      <td>NaN</td>\n",
       "      <td>NaN</td>\n",
       "      <td>NaN</td>\n",
       "      <td>NaN</td>\n",
       "      <td>NaN</td>\n",
       "      <td>NaN</td>\n",
       "      <td>NaN</td>\n",
       "      <td>NaN</td>\n",
       "      <td>NaN</td>\n",
       "      <td>NaN</td>\n",
       "      <td>NaN</td>\n",
       "      <td>NaN</td>\n",
       "      <td>NaN</td>\n",
       "      <td>NaN</td>\n",
       "      <td>en:fats</td>\n",
       "      <td>en:fats-and-sauces,en:fats</td>\n",
       "      <td>2.0</td>\n",
       "      <td>en:2-processed-culinary-ingredients</td>\n",
       "      <td>b</td>\n",
       "      <td>1.0</td>\n",
       "      <td>unknown</td>\n",
       "      <td>NaN</td>\n",
       "      <td>1.0</td>\n",
       "      <td>NaN</td>\n",
       "      <td>-5.0</td>\n",
       "      <td>-15.0</td>\n",
       "      <td>1.0</td>\n",
       "      <td>0.0</td>\n",
       "      <td>NaN</td>\n",
       "      <td>NaN</td>\n",
       "      <td>NaN</td>\n",
       "      <td>NaN</td>\n",
       "      <td>NaN</td>\n",
       "      <td>NaN</td>\n",
       "      <td>NaN</td>\n",
       "      <td>App - yuka, Apps</td>\n",
       "    </tr>\n",
       "    <tr>\n",
       "      <th>1</th>\n",
       "      <td>7610095131409</td>\n",
       "      <td>en</td>\n",
       "      <td>NaN</td>\n",
       "      <td>NaN</td>\n",
       "      <td>NaN</td>\n",
       "      <td>NaN</td>\n",
       "      <td>NaN</td>\n",
       "      <td>Avocado Bowl chips</td>\n",
       "      <td>NaN</td>\n",
       "      <td>NaN</td>\n",
       "      <td>NaN</td>\n",
       "      <td>NaN</td>\n",
       "      <td>NaN</td>\n",
       "      <td>NaN</td>\n",
       "      <td>NaN</td>\n",
       "      <td>NaN</td>\n",
       "      <td>NaN</td>\n",
       "      <td>NaN</td>\n",
       "      <td>NaN</td>\n",
       "      <td>NaN</td>\n",
       "      <td>NaN</td>\n",
       "      <td>NaN</td>\n",
       "      <td>NaN</td>\n",
       "      <td>NaN</td>\n",
       "      <td>NaN</td>\n",
       "      <td>NaN</td>\n",
       "      <td>NaN</td>\n",
       "      <td>Zweifel</td>\n",
       "      <td>zweifel</td>\n",
       "      <td>NaN</td>\n",
       "      <td>Snacks, Salty snacks, Appetizers, Chips and fr...</td>\n",
       "      <td>en:snacks,en:salty-snacks,en:appetizers,en:chi...</td>\n",
       "      <td>Vegetarian, Vegan</td>\n",
       "      <td>en:vegetarian,en:vegan</td>\n",
       "      <td>Switzerland, World</td>\n",
       "      <td>en:switzerland,en:world</td>\n",
       "      <td>NaN</td>\n",
       "      <td>NaN</td>\n",
       "      <td>1</td>\n",
       "      <td>2023/03/21</td>\n",
       "      <td>...</td>\n",
       "      <td>NaN</td>\n",
       "      <td>NaN</td>\n",
       "      <td>NaN</td>\n",
       "      <td>NaN</td>\n",
       "      <td>NaN</td>\n",
       "      <td>NaN</td>\n",
       "      <td>NaN</td>\n",
       "      <td>NaN</td>\n",
       "      <td>NaN</td>\n",
       "      <td>NaN</td>\n",
       "      <td>NaN</td>\n",
       "      <td>NaN</td>\n",
       "      <td>NaN</td>\n",
       "      <td>NaN</td>\n",
       "      <td>NaN</td>\n",
       "      <td>NaN</td>\n",
       "      <td>NaN</td>\n",
       "      <td>NaN</td>\n",
       "      <td>en:appetizers</td>\n",
       "      <td>en:salty-snacks,en:appetizers</td>\n",
       "      <td>NaN</td>\n",
       "      <td>unknown</td>\n",
       "      <td>c</td>\n",
       "      <td>8.0</td>\n",
       "      <td>unknown</td>\n",
       "      <td>NaN</td>\n",
       "      <td>1.0</td>\n",
       "      <td>NaN</td>\n",
       "      <td>-5.0</td>\n",
       "      <td>-15.0</td>\n",
       "      <td>1.0</td>\n",
       "      <td>0.0</td>\n",
       "      <td>NaN</td>\n",
       "      <td>NaN</td>\n",
       "      <td>NaN</td>\n",
       "      <td>NaN</td>\n",
       "      <td>NaN</td>\n",
       "      <td>NaN</td>\n",
       "      <td>NaN</td>\n",
       "      <td>App - Yuka, Apps, Producers, Producer - zweifel</td>\n",
       "    </tr>\n",
       "    <tr>\n",
       "      <th>2</th>\n",
       "      <td>4005514005578</td>\n",
       "      <td>en</td>\n",
       "      <td>NaN</td>\n",
       "      <td>NaN</td>\n",
       "      <td>Gelbe Linse Avocado Brotaufstrich</td>\n",
       "      <td>NaN</td>\n",
       "      <td>NaN</td>\n",
       "      <td>NaN</td>\n",
       "      <td>NaN</td>\n",
       "      <td>NaN</td>\n",
       "      <td>NaN</td>\n",
       "      <td>NaN</td>\n",
       "      <td>NaN</td>\n",
       "      <td>NaN</td>\n",
       "      <td>NaN</td>\n",
       "      <td>NaN</td>\n",
       "      <td>NaN</td>\n",
       "      <td>NaN</td>\n",
       "      <td>NaN</td>\n",
       "      <td>NaN</td>\n",
       "      <td>NaN</td>\n",
       "      <td>NaN</td>\n",
       "      <td>NaN</td>\n",
       "      <td>NaN</td>\n",
       "      <td>NaN</td>\n",
       "      <td>NaN</td>\n",
       "      <td>NaN</td>\n",
       "      <td>Tartex</td>\n",
       "      <td>tartex</td>\n",
       "      <td>NaN</td>\n",
       "      <td>de:Abendbrotsufstrich</td>\n",
       "      <td>de:abendbrotsufstrich</td>\n",
       "      <td>Organic, EU Organic, EG-Öko-Verordnung</td>\n",
       "      <td>en:organic,en:eu-organic,en:eg-oko-verordnung</td>\n",
       "      <td>Germany</td>\n",
       "      <td>en:germany</td>\n",
       "      <td>NaN</td>\n",
       "      <td>NaN</td>\n",
       "      <td>0</td>\n",
       "      <td>NaN</td>\n",
       "      <td>...</td>\n",
       "      <td>NaN</td>\n",
       "      <td>NaN</td>\n",
       "      <td>NaN</td>\n",
       "      <td>NaN</td>\n",
       "      <td>NaN</td>\n",
       "      <td>NaN</td>\n",
       "      <td>NaN</td>\n",
       "      <td>NaN</td>\n",
       "      <td>NaN</td>\n",
       "      <td>NaN</td>\n",
       "      <td>NaN</td>\n",
       "      <td>NaN</td>\n",
       "      <td>NaN</td>\n",
       "      <td>NaN</td>\n",
       "      <td>NaN</td>\n",
       "      <td>NaN</td>\n",
       "      <td>NaN</td>\n",
       "      <td>NaN</td>\n",
       "      <td>NaN</td>\n",
       "      <td>NaN</td>\n",
       "      <td>NaN</td>\n",
       "      <td>unknown</td>\n",
       "      <td>b</td>\n",
       "      <td>0.0</td>\n",
       "      <td>unknown</td>\n",
       "      <td>NaN</td>\n",
       "      <td>1.0</td>\n",
       "      <td>NaN</td>\n",
       "      <td>-5.0</td>\n",
       "      <td>-15.0</td>\n",
       "      <td>1.0</td>\n",
       "      <td>15.0</td>\n",
       "      <td>NaN</td>\n",
       "      <td>NaN</td>\n",
       "      <td>NaN</td>\n",
       "      <td>NaN</td>\n",
       "      <td>NaN</td>\n",
       "      <td>NaN</td>\n",
       "      <td>NaN</td>\n",
       "      <td>App - yuka, Apps, App - smoothie-openfoodfacts</td>\n",
       "    </tr>\n",
       "    <tr>\n",
       "      <th>3</th>\n",
       "      <td>0879890002513</td>\n",
       "      <td>en</td>\n",
       "      <td>NaN</td>\n",
       "      <td>NaN</td>\n",
       "      <td>Avocado toast chili lime</td>\n",
       "      <td>NaN</td>\n",
       "      <td>NaN</td>\n",
       "      <td>NaN</td>\n",
       "      <td>NaN</td>\n",
       "      <td>NaN</td>\n",
       "      <td>NaN</td>\n",
       "      <td>NaN</td>\n",
       "      <td>NaN</td>\n",
       "      <td>NaN</td>\n",
       "      <td>NaN</td>\n",
       "      <td>NaN</td>\n",
       "      <td>NaN</td>\n",
       "      <td>NaN</td>\n",
       "      <td>NaN</td>\n",
       "      <td>NaN</td>\n",
       "      <td>NaN</td>\n",
       "      <td>NaN</td>\n",
       "      <td>NaN</td>\n",
       "      <td>NaN</td>\n",
       "      <td>NaN</td>\n",
       "      <td>NaN</td>\n",
       "      <td>NaN</td>\n",
       "      <td>NaN</td>\n",
       "      <td>NaN</td>\n",
       "      <td>NaN</td>\n",
       "      <td>NaN</td>\n",
       "      <td>NaN</td>\n",
       "      <td>NaN</td>\n",
       "      <td>NaN</td>\n",
       "      <td>United States</td>\n",
       "      <td>en:united-states</td>\n",
       "      <td>NaN</td>\n",
       "      <td>NaN</td>\n",
       "      <td>0</td>\n",
       "      <td>NaN</td>\n",
       "      <td>...</td>\n",
       "      <td>NaN</td>\n",
       "      <td>NaN</td>\n",
       "      <td>NaN</td>\n",
       "      <td>NaN</td>\n",
       "      <td>NaN</td>\n",
       "      <td>NaN</td>\n",
       "      <td>NaN</td>\n",
       "      <td>NaN</td>\n",
       "      <td>NaN</td>\n",
       "      <td>NaN</td>\n",
       "      <td>NaN</td>\n",
       "      <td>NaN</td>\n",
       "      <td>NaN</td>\n",
       "      <td>NaN</td>\n",
       "      <td>NaN</td>\n",
       "      <td>NaN</td>\n",
       "      <td>NaN</td>\n",
       "      <td>NaN</td>\n",
       "      <td>NaN</td>\n",
       "      <td>NaN</td>\n",
       "      <td>4.0</td>\n",
       "      <td>en:4-ultra-processed-food-and-drink-products</td>\n",
       "      <td>NaN</td>\n",
       "      <td>NaN</td>\n",
       "      <td>unknown</td>\n",
       "      <td>NaN</td>\n",
       "      <td>1.0</td>\n",
       "      <td>NaN</td>\n",
       "      <td>-5.0</td>\n",
       "      <td>-15.0</td>\n",
       "      <td>1.0</td>\n",
       "      <td>0.0</td>\n",
       "      <td>NaN</td>\n",
       "      <td>NaN</td>\n",
       "      <td>NaN</td>\n",
       "      <td>NaN</td>\n",
       "      <td>NaN</td>\n",
       "      <td>NaN</td>\n",
       "      <td>NaN</td>\n",
       "      <td>App - Yuka, Apps, App - InFood</td>\n",
       "    </tr>\n",
       "    <tr>\n",
       "      <th>4</th>\n",
       "      <td>0223086613685</td>\n",
       "      <td>en</td>\n",
       "      <td>NaN</td>\n",
       "      <td>NaN</td>\n",
       "      <td>Avocado</td>\n",
       "      <td>NaN</td>\n",
       "      <td>NaN</td>\n",
       "      <td>NaN</td>\n",
       "      <td>NaN</td>\n",
       "      <td>NaN</td>\n",
       "      <td>NaN</td>\n",
       "      <td>NaN</td>\n",
       "      <td>NaN</td>\n",
       "      <td>NaN</td>\n",
       "      <td>NaN</td>\n",
       "      <td>NaN</td>\n",
       "      <td>NaN</td>\n",
       "      <td>NaN</td>\n",
       "      <td>NaN</td>\n",
       "      <td>NaN</td>\n",
       "      <td>NaN</td>\n",
       "      <td>NaN</td>\n",
       "      <td>NaN</td>\n",
       "      <td>NaN</td>\n",
       "      <td>NaN</td>\n",
       "      <td>NaN</td>\n",
       "      <td>NaN</td>\n",
       "      <td>NaN</td>\n",
       "      <td>NaN</td>\n",
       "      <td>NaN</td>\n",
       "      <td>NaN</td>\n",
       "      <td>NaN</td>\n",
       "      <td>NaN</td>\n",
       "      <td>NaN</td>\n",
       "      <td>United States</td>\n",
       "      <td>en:united-states</td>\n",
       "      <td>NaN</td>\n",
       "      <td>NaN</td>\n",
       "      <td>0</td>\n",
       "      <td>NaN</td>\n",
       "      <td>...</td>\n",
       "      <td>NaN</td>\n",
       "      <td>NaN</td>\n",
       "      <td>NaN</td>\n",
       "      <td>NaN</td>\n",
       "      <td>NaN</td>\n",
       "      <td>NaN</td>\n",
       "      <td>NaN</td>\n",
       "      <td>NaN</td>\n",
       "      <td>NaN</td>\n",
       "      <td>NaN</td>\n",
       "      <td>NaN</td>\n",
       "      <td>NaN</td>\n",
       "      <td>NaN</td>\n",
       "      <td>NaN</td>\n",
       "      <td>NaN</td>\n",
       "      <td>NaN</td>\n",
       "      <td>NaN</td>\n",
       "      <td>NaN</td>\n",
       "      <td>NaN</td>\n",
       "      <td>NaN</td>\n",
       "      <td>NaN</td>\n",
       "      <td>unknown</td>\n",
       "      <td>NaN</td>\n",
       "      <td>NaN</td>\n",
       "      <td>unknown</td>\n",
       "      <td>NaN</td>\n",
       "      <td>1.0</td>\n",
       "      <td>NaN</td>\n",
       "      <td>-5.0</td>\n",
       "      <td>-15.0</td>\n",
       "      <td>1.0</td>\n",
       "      <td>0.0</td>\n",
       "      <td>NaN</td>\n",
       "      <td>NaN</td>\n",
       "      <td>NaN</td>\n",
       "      <td>NaN</td>\n",
       "      <td>NaN</td>\n",
       "      <td>NaN</td>\n",
       "      <td>NaN</td>\n",
       "      <td>App - Yuka, Apps</td>\n",
       "    </tr>\n",
       "  </tbody>\n",
       "</table>\n",
       "<p>5 rows × 184 columns</p>\n",
       "</div>"
      ],
      "text/plain": [
       "            code  ...                                     data_sources\n",
       "0  0059749979702  ...                                 App - yuka, Apps\n",
       "1  7610095131409  ...  App - Yuka, Apps, Producers, Producer - zweifel\n",
       "2  4005514005578  ...   App - yuka, Apps, App - smoothie-openfoodfacts\n",
       "3  0879890002513  ...                   App - Yuka, Apps, App - InFood\n",
       "4  0223086613685  ...                                 App - Yuka, Apps\n",
       "\n",
       "[5 rows x 184 columns]"
      ]
     },
     "execution_count": 74,
     "metadata": {},
     "output_type": "execute_result"
    }
   ],
   "source": [
    "avocado_df = pd.read_csv(\"data/avocado.csv\", sep='\\t')\n",
    "avocado_df.head()"
   ]
  },
  {
   "cell_type": "code",
   "execution_count": 75,
   "id": "c56820d2-7675-4bfc-8875-c5cb00a77880",
   "metadata": {
    "executionCancelledAt": null,
    "executionTime": 60,
    "lastExecutedAt": 1733913448041,
    "lastExecutedByKernel": "d63be3d7-23b2-4de7-9cf6-1f2d8a38d224",
    "lastScheduledRunId": null,
    "lastSuccessfullyExecutedCode": "avocado_df = avocado_df[['code', 'lc', 'product_name_en', 'quantity', 'serving_size', 'packaging_tags', 'brands', 'brands_tags', 'categories_tags', 'labels_tags', 'countries', 'countries_tags', 'origins', 'origins_tags']]\navocado_df.head()",
    "outputsMetadata": {
     "0": {
      "height": 239,
      "type": "dataFrame"
     }
    },
    "visualizeDataframe": false
   },
   "outputs": [
    {
     "data": {
      "application/com.datacamp.data-table.v2+json": {
       "table": {
        "data": {
         "brands": [
          "Naturalia",
          "Zweifel",
          "Tartex",
          null,
          null
         ],
         "brands_tags": [
          "naturalia",
          "zweifel",
          "tartex",
          null,
          null
         ],
         "categories_tags": [
          "en:plant-based-foods-and-beverages,en:plant-based-foods,en:fats,en:vegetable-fats,en:vegetable-oils,en:fruit-and-fruit-seed-oils",
          "en:snacks,en:salty-snacks,en:appetizers,en:chips-and-fries,en:crisps",
          "de:abendbrotsufstrich",
          null,
          null
         ],
         "code": [
          "0059749979702",
          "7610095131409",
          "4005514005578",
          "0879890002513",
          "0223086613685"
         ],
         "countries": [
          "Canada",
          "Switzerland, World",
          "Germany",
          "United States",
          "United States"
         ],
         "countries_tags": [
          "en:canada",
          "en:switzerland,en:world",
          "en:germany",
          "en:united-states",
          "en:united-states"
         ],
         "index": [
          0,
          1,
          2,
          3,
          4
         ],
         "labels_tags": [
          null,
          "en:vegetarian,en:vegan",
          "en:organic,en:eu-organic,en:eg-oko-verordnung",
          null,
          null
         ],
         "lc": [
          "fr",
          "en",
          "en",
          "en",
          "en"
         ],
         "origins": [
          null,
          null,
          null,
          null,
          null
         ],
         "origins_tags": [
          null,
          null,
          null,
          null,
          null
         ],
         "packaging_tags": [
          null,
          null,
          null,
          null,
          null
         ],
         "product_name_en": [
          null,
          null,
          "Gelbe Linse Avocado Brotaufstrich",
          "Avocado toast chili lime",
          "Avocado"
         ],
         "quantity": [
          null,
          null,
          null,
          null,
          null
         ],
         "serving_size": [
          null,
          null,
          null,
          null,
          null
         ]
        },
        "schema": {
         "fields": [
          {
           "name": "index",
           "type": "integer"
          },
          {
           "name": "code",
           "type": "string"
          },
          {
           "name": "lc",
           "type": "string"
          },
          {
           "name": "product_name_en",
           "type": "string"
          },
          {
           "name": "quantity",
           "type": "string"
          },
          {
           "name": "serving_size",
           "type": "string"
          },
          {
           "name": "packaging_tags",
           "type": "string"
          },
          {
           "name": "brands",
           "type": "string"
          },
          {
           "name": "brands_tags",
           "type": "string"
          },
          {
           "name": "categories_tags",
           "type": "string"
          },
          {
           "name": "labels_tags",
           "type": "string"
          },
          {
           "name": "countries",
           "type": "string"
          },
          {
           "name": "countries_tags",
           "type": "string"
          },
          {
           "name": "origins",
           "type": "string"
          },
          {
           "name": "origins_tags",
           "type": "string"
          }
         ],
         "pandas_version": "1.4.0",
         "primaryKey": [
          "index"
         ]
        }
       },
       "total_rows": 5,
       "truncation_type": null
      },
      "text/html": [
       "<div>\n",
       "<style scoped>\n",
       "    .dataframe tbody tr th:only-of-type {\n",
       "        vertical-align: middle;\n",
       "    }\n",
       "\n",
       "    .dataframe tbody tr th {\n",
       "        vertical-align: top;\n",
       "    }\n",
       "\n",
       "    .dataframe thead th {\n",
       "        text-align: right;\n",
       "    }\n",
       "</style>\n",
       "<table border=\"1\" class=\"dataframe\">\n",
       "  <thead>\n",
       "    <tr style=\"text-align: right;\">\n",
       "      <th></th>\n",
       "      <th>code</th>\n",
       "      <th>lc</th>\n",
       "      <th>product_name_en</th>\n",
       "      <th>quantity</th>\n",
       "      <th>serving_size</th>\n",
       "      <th>packaging_tags</th>\n",
       "      <th>brands</th>\n",
       "      <th>brands_tags</th>\n",
       "      <th>categories_tags</th>\n",
       "      <th>labels_tags</th>\n",
       "      <th>countries</th>\n",
       "      <th>countries_tags</th>\n",
       "      <th>origins</th>\n",
       "      <th>origins_tags</th>\n",
       "    </tr>\n",
       "  </thead>\n",
       "  <tbody>\n",
       "    <tr>\n",
       "      <th>0</th>\n",
       "      <td>0059749979702</td>\n",
       "      <td>fr</td>\n",
       "      <td>NaN</td>\n",
       "      <td>NaN</td>\n",
       "      <td>NaN</td>\n",
       "      <td>NaN</td>\n",
       "      <td>Naturalia</td>\n",
       "      <td>naturalia</td>\n",
       "      <td>en:plant-based-foods-and-beverages,en:plant-ba...</td>\n",
       "      <td>NaN</td>\n",
       "      <td>Canada</td>\n",
       "      <td>en:canada</td>\n",
       "      <td>NaN</td>\n",
       "      <td>NaN</td>\n",
       "    </tr>\n",
       "    <tr>\n",
       "      <th>1</th>\n",
       "      <td>7610095131409</td>\n",
       "      <td>en</td>\n",
       "      <td>NaN</td>\n",
       "      <td>NaN</td>\n",
       "      <td>NaN</td>\n",
       "      <td>NaN</td>\n",
       "      <td>Zweifel</td>\n",
       "      <td>zweifel</td>\n",
       "      <td>en:snacks,en:salty-snacks,en:appetizers,en:chi...</td>\n",
       "      <td>en:vegetarian,en:vegan</td>\n",
       "      <td>Switzerland, World</td>\n",
       "      <td>en:switzerland,en:world</td>\n",
       "      <td>NaN</td>\n",
       "      <td>NaN</td>\n",
       "    </tr>\n",
       "    <tr>\n",
       "      <th>2</th>\n",
       "      <td>4005514005578</td>\n",
       "      <td>en</td>\n",
       "      <td>Gelbe Linse Avocado Brotaufstrich</td>\n",
       "      <td>NaN</td>\n",
       "      <td>NaN</td>\n",
       "      <td>NaN</td>\n",
       "      <td>Tartex</td>\n",
       "      <td>tartex</td>\n",
       "      <td>de:abendbrotsufstrich</td>\n",
       "      <td>en:organic,en:eu-organic,en:eg-oko-verordnung</td>\n",
       "      <td>Germany</td>\n",
       "      <td>en:germany</td>\n",
       "      <td>NaN</td>\n",
       "      <td>NaN</td>\n",
       "    </tr>\n",
       "    <tr>\n",
       "      <th>3</th>\n",
       "      <td>0879890002513</td>\n",
       "      <td>en</td>\n",
       "      <td>Avocado toast chili lime</td>\n",
       "      <td>NaN</td>\n",
       "      <td>NaN</td>\n",
       "      <td>NaN</td>\n",
       "      <td>NaN</td>\n",
       "      <td>NaN</td>\n",
       "      <td>NaN</td>\n",
       "      <td>NaN</td>\n",
       "      <td>United States</td>\n",
       "      <td>en:united-states</td>\n",
       "      <td>NaN</td>\n",
       "      <td>NaN</td>\n",
       "    </tr>\n",
       "    <tr>\n",
       "      <th>4</th>\n",
       "      <td>0223086613685</td>\n",
       "      <td>en</td>\n",
       "      <td>Avocado</td>\n",
       "      <td>NaN</td>\n",
       "      <td>NaN</td>\n",
       "      <td>NaN</td>\n",
       "      <td>NaN</td>\n",
       "      <td>NaN</td>\n",
       "      <td>NaN</td>\n",
       "      <td>NaN</td>\n",
       "      <td>United States</td>\n",
       "      <td>en:united-states</td>\n",
       "      <td>NaN</td>\n",
       "      <td>NaN</td>\n",
       "    </tr>\n",
       "  </tbody>\n",
       "</table>\n",
       "</div>"
      ],
      "text/plain": [
       "            code  lc  ... origins origins_tags\n",
       "0  0059749979702  fr  ...     NaN          NaN\n",
       "1  7610095131409  en  ...     NaN          NaN\n",
       "2  4005514005578  en  ...     NaN          NaN\n",
       "3  0879890002513  en  ...     NaN          NaN\n",
       "4  0223086613685  en  ...     NaN          NaN\n",
       "\n",
       "[5 rows x 14 columns]"
      ]
     },
     "execution_count": 75,
     "metadata": {},
     "output_type": "execute_result"
    }
   ],
   "source": [
    "avocado_df = avocado_df[['code', 'lc', 'product_name_en', 'quantity', 'serving_size', 'packaging_tags', 'brands', 'brands_tags', 'categories_tags', 'labels_tags', 'countries', 'countries_tags', 'origins', 'origins_tags']]\n",
    "avocado_df.head()"
   ]
  },
  {
   "cell_type": "code",
   "execution_count": 76,
   "id": "493b6758-7c88-41a1-9d06-9843a0c579f5",
   "metadata": {
    "executionCancelledAt": null,
    "executionTime": 48,
    "lastExecutedAt": 1733913448089,
    "lastExecutedByKernel": "d63be3d7-23b2-4de7-9cf6-1f2d8a38d224",
    "lastScheduledRunId": null,
    "lastSuccessfullyExecutedCode": "avocado_tags_open = open(\"data/relevant_avocado_categories.txt\", \"r\")\navocado_tags = avocado_tags_open.read()\navocado_tags = avocado_tags.split()\nprint(avocado_tags)\nprint(type(avocado_tags))",
    "outputsMetadata": {
     "0": {
      "height": 80,
      "type": "stream"
     }
    }
   },
   "outputs": [
    {
     "name": "stdout",
     "output_type": "stream",
     "text": [
      "['en:avocadoes', 'en:avocados', 'en:fresh-foods', 'en:fresh-vegetables', 'en:fruchte', 'en:fruits', 'en:raw-green-avocados', 'en:tropical-fruits', 'en:tropische-fruchte', 'en:vegetables-based-foods', 'fr:hass-avocados']\n",
      "<class 'list'>\n"
     ]
    }
   ],
   "source": [
    "avocado_tags_open = open(\"data/relevant_avocado_categories.txt\", \"r\")\n",
    "avocado_tags = avocado_tags_open.read()\n",
    "avocado_tags = avocado_tags.split()\n",
    "print(avocado_tags)\n",
    "print(type(avocado_tags))"
   ]
  },
  {
   "cell_type": "code",
   "execution_count": 77,
   "id": "7a4fe465-7088-4f9e-bf58-921eae92b8ed",
   "metadata": {
    "executionCancelledAt": null,
    "executionTime": 51,
    "lastExecutedAt": 1733913448140,
    "lastExecutedByKernel": "d63be3d7-23b2-4de7-9cf6-1f2d8a38d224",
    "lastScheduledRunId": null,
    "lastSuccessfullyExecutedCode": "filtr = avocado_df[\"categories_tags\"].str.split(\",\").dropna().apply(lambda x: any([b for b in x if b in avocado_tags]))"
   },
   "outputs": [],
   "source": [
    "filtr = avocado_df[\"categories_tags\"].str.split(\",\").dropna().apply(lambda x: any([b for b in x if b in avocado_tags]))"
   ]
  },
  {
   "cell_type": "code",
   "execution_count": 78,
   "id": "4c933812-30ab-4190-a715-e92df5381a28",
   "metadata": {
    "executionCancelledAt": null,
    "executionTime": 56,
    "lastExecutedAt": 1733913448197,
    "lastExecutedByKernel": "d63be3d7-23b2-4de7-9cf6-1f2d8a38d224",
    "lastScheduledRunId": null,
    "lastSuccessfullyExecutedCode": "avocado_df = avocado_df.dropna(subset='categories_tags')"
   },
   "outputs": [],
   "source": [
    "avocado_df = avocado_df.dropna(subset='categories_tags')"
   ]
  },
  {
   "cell_type": "code",
   "execution_count": 79,
   "id": "ca7823bc-8e37-478f-8524-5f19ac96a252",
   "metadata": {
    "executionCancelledAt": null,
    "executionTime": 48,
    "lastExecutedAt": 1733913448245,
    "lastExecutedByKernel": "d63be3d7-23b2-4de7-9cf6-1f2d8a38d224",
    "lastScheduledRunId": null,
    "lastSuccessfullyExecutedCode": "avocado_df = avocado_df[filtr]\nprint(avocado_df.shape)\navocado_df.head()",
    "outputsMetadata": {
     "0": {
      "height": 38,
      "type": "stream"
     },
     "1": {
      "height": 239,
      "type": "dataFrame"
     }
    }
   },
   "outputs": [
    {
     "name": "stdout",
     "output_type": "stream",
     "text": [
      "(182, 14)\n"
     ]
    },
    {
     "data": {
      "application/com.datacamp.data-table.v2+json": {
       "table": {
        "data": {
         "brands": [
          "la compagnie des fruits mûrs",
          null,
          "Allos",
          null,
          null
         ],
         "brands_tags": [
          "la-compagnie-des-fruits-murs",
          null,
          "allos",
          null,
          null
         ],
         "categories_tags": [
          "en:plant-based-foods-and-beverages,en:plant-based-foods,en:fruits-and-vegetables-based-foods,en:fruits-based-foods,en:fruits,en:tropical-fruits,en:avocados",
          "en:plant-based-foods-and-beverages,en:plant-based-foods,en:fruits-and-vegetables-based-foods,en:fruits-based-foods,en:fruits,en:tropical-fruits,en:avocados",
          "en:plant-based-foods-and-beverages,en:plant-based-foods,en:fruits-and-vegetables-based-foods,en:spreads,en:fruits-based-foods,en:plant-based-spreads,en:salted-spreads,en:fruits,en:tropical-fruits,en:avocados,en:avocado-pulp",
          "en:plant-based-foods-and-beverages,en:plant-based-foods,en:fruits-and-vegetables-based-foods,en:fruits-based-foods,en:fruits,en:tropical-fruits,en:avocados",
          "en:plant-based-foods-and-beverages,en:plant-based-foods,en:fruits-and-vegetables-based-foods,en:fruits-based-foods,en:fruits,en:tropical-fruits,en:avocados"
         ],
         "code": [
          "3662994002063",
          "8437013031011",
          "4016249238155",
          "8718963381532",
          "8436002746707"
         ],
         "countries": [
          "France",
          "France",
          "Deutschland",
          "Deutschland",
          "España"
         ],
         "countries_tags": [
          "en:france",
          "en:france",
          "en:germany",
          "en:germany",
          "en:spain"
         ],
         "index": [
          5,
          6,
          14,
          17,
          23
         ],
         "labels_tags": [
          null,
          null,
          "en:organic,en:vegetarian,en:eu-organic,en:no-gluten,en:vegan,en:de-oko-003,en:green-dot,en:made-in-germany",
          null,
          null
         ],
         "lc": [
          "fr",
          "fr",
          "de",
          "de",
          "es"
         ],
         "origins": [
          null,
          null,
          "Europäische Union",
          null,
          null
         ],
         "origins_tags": [
          null,
          null,
          "en:european-union",
          null,
          null
         ],
         "packaging_tags": [
          null,
          null,
          "de:gläschen",
          null,
          null
         ],
         "product_name_en": [
          null,
          null,
          null,
          null,
          null
         ],
         "quantity": [
          "3 fruits",
          "1 kg",
          "135g",
          null,
          null
         ],
         "serving_size": [
          null,
          null,
          "100g",
          null,
          null
         ]
        },
        "schema": {
         "fields": [
          {
           "name": "index",
           "type": "integer"
          },
          {
           "name": "code",
           "type": "string"
          },
          {
           "name": "lc",
           "type": "string"
          },
          {
           "name": "product_name_en",
           "type": "string"
          },
          {
           "name": "quantity",
           "type": "string"
          },
          {
           "name": "serving_size",
           "type": "string"
          },
          {
           "name": "packaging_tags",
           "type": "string"
          },
          {
           "name": "brands",
           "type": "string"
          },
          {
           "name": "brands_tags",
           "type": "string"
          },
          {
           "name": "categories_tags",
           "type": "string"
          },
          {
           "name": "labels_tags",
           "type": "string"
          },
          {
           "name": "countries",
           "type": "string"
          },
          {
           "name": "countries_tags",
           "type": "string"
          },
          {
           "name": "origins",
           "type": "string"
          },
          {
           "name": "origins_tags",
           "type": "string"
          }
         ],
         "pandas_version": "1.4.0",
         "primaryKey": [
          "index"
         ]
        }
       },
       "total_rows": 5,
       "truncation_type": null
      },
      "text/html": [
       "<div>\n",
       "<style scoped>\n",
       "    .dataframe tbody tr th:only-of-type {\n",
       "        vertical-align: middle;\n",
       "    }\n",
       "\n",
       "    .dataframe tbody tr th {\n",
       "        vertical-align: top;\n",
       "    }\n",
       "\n",
       "    .dataframe thead th {\n",
       "        text-align: right;\n",
       "    }\n",
       "</style>\n",
       "<table border=\"1\" class=\"dataframe\">\n",
       "  <thead>\n",
       "    <tr style=\"text-align: right;\">\n",
       "      <th></th>\n",
       "      <th>code</th>\n",
       "      <th>lc</th>\n",
       "      <th>product_name_en</th>\n",
       "      <th>quantity</th>\n",
       "      <th>serving_size</th>\n",
       "      <th>packaging_tags</th>\n",
       "      <th>brands</th>\n",
       "      <th>brands_tags</th>\n",
       "      <th>categories_tags</th>\n",
       "      <th>labels_tags</th>\n",
       "      <th>countries</th>\n",
       "      <th>countries_tags</th>\n",
       "      <th>origins</th>\n",
       "      <th>origins_tags</th>\n",
       "    </tr>\n",
       "  </thead>\n",
       "  <tbody>\n",
       "    <tr>\n",
       "      <th>5</th>\n",
       "      <td>3662994002063</td>\n",
       "      <td>fr</td>\n",
       "      <td>NaN</td>\n",
       "      <td>3 fruits</td>\n",
       "      <td>NaN</td>\n",
       "      <td>NaN</td>\n",
       "      <td>la compagnie des fruits mûrs</td>\n",
       "      <td>la-compagnie-des-fruits-murs</td>\n",
       "      <td>en:plant-based-foods-and-beverages,en:plant-ba...</td>\n",
       "      <td>NaN</td>\n",
       "      <td>France</td>\n",
       "      <td>en:france</td>\n",
       "      <td>NaN</td>\n",
       "      <td>NaN</td>\n",
       "    </tr>\n",
       "    <tr>\n",
       "      <th>6</th>\n",
       "      <td>8437013031011</td>\n",
       "      <td>fr</td>\n",
       "      <td>NaN</td>\n",
       "      <td>1 kg</td>\n",
       "      <td>NaN</td>\n",
       "      <td>NaN</td>\n",
       "      <td>NaN</td>\n",
       "      <td>NaN</td>\n",
       "      <td>en:plant-based-foods-and-beverages,en:plant-ba...</td>\n",
       "      <td>NaN</td>\n",
       "      <td>France</td>\n",
       "      <td>en:france</td>\n",
       "      <td>NaN</td>\n",
       "      <td>NaN</td>\n",
       "    </tr>\n",
       "    <tr>\n",
       "      <th>14</th>\n",
       "      <td>4016249238155</td>\n",
       "      <td>de</td>\n",
       "      <td>NaN</td>\n",
       "      <td>135g</td>\n",
       "      <td>100g</td>\n",
       "      <td>de:gläschen</td>\n",
       "      <td>Allos</td>\n",
       "      <td>allos</td>\n",
       "      <td>en:plant-based-foods-and-beverages,en:plant-ba...</td>\n",
       "      <td>en:organic,en:vegetarian,en:eu-organic,en:no-g...</td>\n",
       "      <td>Deutschland</td>\n",
       "      <td>en:germany</td>\n",
       "      <td>Europäische Union</td>\n",
       "      <td>en:european-union</td>\n",
       "    </tr>\n",
       "    <tr>\n",
       "      <th>17</th>\n",
       "      <td>8718963381532</td>\n",
       "      <td>de</td>\n",
       "      <td>NaN</td>\n",
       "      <td>NaN</td>\n",
       "      <td>NaN</td>\n",
       "      <td>NaN</td>\n",
       "      <td>NaN</td>\n",
       "      <td>NaN</td>\n",
       "      <td>en:plant-based-foods-and-beverages,en:plant-ba...</td>\n",
       "      <td>NaN</td>\n",
       "      <td>Deutschland</td>\n",
       "      <td>en:germany</td>\n",
       "      <td>NaN</td>\n",
       "      <td>NaN</td>\n",
       "    </tr>\n",
       "    <tr>\n",
       "      <th>23</th>\n",
       "      <td>8436002746707</td>\n",
       "      <td>es</td>\n",
       "      <td>NaN</td>\n",
       "      <td>NaN</td>\n",
       "      <td>NaN</td>\n",
       "      <td>NaN</td>\n",
       "      <td>NaN</td>\n",
       "      <td>NaN</td>\n",
       "      <td>en:plant-based-foods-and-beverages,en:plant-ba...</td>\n",
       "      <td>NaN</td>\n",
       "      <td>España</td>\n",
       "      <td>en:spain</td>\n",
       "      <td>NaN</td>\n",
       "      <td>NaN</td>\n",
       "    </tr>\n",
       "  </tbody>\n",
       "</table>\n",
       "</div>"
      ],
      "text/plain": [
       "             code  lc  ...            origins       origins_tags\n",
       "5   3662994002063  fr  ...                NaN                NaN\n",
       "6   8437013031011  fr  ...                NaN                NaN\n",
       "14  4016249238155  de  ...  Europäische Union  en:european-union\n",
       "17  8718963381532  de  ...                NaN                NaN\n",
       "23  8436002746707  es  ...                NaN                NaN\n",
       "\n",
       "[5 rows x 14 columns]"
      ]
     },
     "execution_count": 79,
     "metadata": {},
     "output_type": "execute_result"
    }
   ],
   "source": [
    "avocado_df = avocado_df[filtr]\n",
    "print(avocado_df.shape)\n",
    "avocado_df.head()"
   ]
  },
  {
   "cell_type": "code",
   "execution_count": 80,
   "id": "1f73ca8f-036f-46fd-94a0-dcc252353743",
   "metadata": {
    "executionCancelledAt": null,
    "executionTime": 52,
    "lastExecutedAt": 1733913448297,
    "lastExecutedByKernel": "d63be3d7-23b2-4de7-9cf6-1f2d8a38d224",
    "lastScheduledRunId": null,
    "lastSuccessfullyExecutedCode": "avocado_UK = avocado_df[avocado_df[\"countries\"] == \"United Kingdom\"]\navocado_UK",
    "outputsMetadata": {
     "0": {
      "height": 463,
      "type": "dataFrame"
     }
    }
   },
   "outputs": [
    {
     "data": {
      "application/com.datacamp.data-table.v2+json": {
       "table": {
        "data": {
         "brands": [
          "Marks & Spencer",
          null,
          "Aldi",
          "Sainsbury’s SO organic",
          "Asda",
          "Asda",
          "Tesco",
          "Tesco",
          "By Sainsbury's",
          "Sainsbury's",
          "Co op",
          "Morrisons",
          "Morrisons"
         ],
         "brands_tags": [
          "marks-spencer",
          null,
          "aldi",
          "sainsbury-s-so-organic",
          "asda",
          "asda",
          "tesco",
          "tesco",
          "by-sainsbury-s",
          "sainsbury-s",
          "co-op",
          "morrisons",
          "morrisons"
         ],
         "categories_tags": [
          "en:plant-based-foods-and-beverages,en:plant-based-foods,en:fruits-and-vegetables-based-foods,en:fruits-based-foods,en:fruits,en:tropical-fruits,en:avocados",
          "en:plant-based-foods-and-beverages,en:plant-based-foods,en:fruits-and-vegetables-based-foods,en:fruits-based-foods,en:fruits,en:tropical-fruits,en:avocados",
          "en:plant-based-foods-and-beverages,en:plant-based-foods,en:fruits-and-vegetables-based-foods,en:fruits-based-foods,en:fruits,en:tropical-fruits,en:avocados",
          "en:plant-based-foods-and-beverages,en:plant-based-foods,en:fruits-and-vegetables-based-foods,en:fruits-based-foods,en:fruits,en:tropical-fruits,en:avocados",
          "en:plant-based-foods-and-beverages,en:plant-based-foods,en:fruits-and-vegetables-based-foods,en:fruits-based-foods,en:fruits,en:tropical-fruits,en:avocados",
          "en:plant-based-foods-and-beverages,en:plant-based-foods,en:fruits-and-vegetables-based-foods,en:fruits-based-foods,en:fruits,en:tropical-fruits,en:avocados",
          "en:plant-based-foods-and-beverages,en:plant-based-foods,en:fruits-and-vegetables-based-foods,en:fruits-based-foods,en:fruits,en:tropical-fruits,en:avocados",
          "en:plant-based-foods-and-beverages,en:plant-based-foods,en:fruits-and-vegetables-based-foods,en:fruits-based-foods,en:fruits,en:tropical-fruits,en:avocados",
          "en:plant-based-foods-and-beverages,en:plant-based-foods,en:fruits-and-vegetables-based-foods,en:fruits-based-foods,en:fruits,en:tropical-fruits,en:avocados",
          "en:plant-based-foods-and-beverages,en:plant-based-foods,en:fruits-and-vegetables-based-foods,en:fruits-based-foods,en:fruits,en:tropical-fruits,en:avocados",
          "en:plant-based-foods-and-beverages,en:plant-based-foods,en:fruits-and-vegetables-based-foods,en:fruits-based-foods,en:fruits,en:tropical-fruits,en:avocados",
          "en:plant-based-foods-and-beverages,en:plant-based-foods,en:fruits-and-vegetables-based-foods,en:fruits-based-foods,en:fruits,en:tropical-fruits,en:avocados",
          "en:plant-based-foods-and-beverages,en:plant-based-foods,en:fruits-and-vegetables-based-foods,en:fruits-based-foods,en:fruits,en:tropical-fruits,en:avocados"
         ],
         "code": [
          "00985833",
          "00040464",
          "4088600100173",
          "01307351",
          "5057172125395",
          "23066755",
          "03201985",
          "10096369",
          "00184915",
          "01600322",
          "5000128606387",
          "2322725400995",
          "5010251741985"
         ],
         "countries": [
          "United Kingdom",
          "United Kingdom",
          "United Kingdom",
          "United Kingdom",
          "United Kingdom",
          "United Kingdom",
          "United Kingdom",
          "United Kingdom",
          "United Kingdom",
          "United Kingdom",
          "United Kingdom",
          "United Kingdom",
          "United Kingdom"
         ],
         "countries_tags": [
          "en:united-kingdom",
          "en:united-kingdom",
          "en:united-kingdom",
          "en:united-kingdom",
          "en:united-kingdom",
          "en:united-kingdom",
          "en:united-kingdom",
          "en:united-kingdom",
          "en:united-kingdom",
          "en:united-kingdom",
          "en:united-kingdom",
          "en:united-kingdom",
          "en:united-kingdom"
         ],
         "index": [
          361,
          381,
          414,
          468,
          508,
          510,
          708,
          781,
          850,
          1190,
          1301,
          1413,
          1771
         ],
         "labels_tags": [
          null,
          null,
          null,
          "en:organic,en:eu-organic,en:non-eu-agriculture,en:eu-agriculture,en:eu-non-eu-agriculture,en:nl-bio-01",
          "en:class-i,en:contains-stones",
          null,
          "en:tesco-nurture,en:vitamin-e-source",
          null,
          null,
          "en:class-i",
          null,
          null,
          null
         ],
         "lc": [
          "en",
          "en",
          "en",
          "en",
          "en",
          "en",
          "en",
          "en",
          "en",
          "en",
          "en",
          "en",
          "en"
         ],
         "origins": [
          "Peru",
          null,
          null,
          null,
          "Peru",
          "Spain, Peru",
          "Chile, Peru",
          null,
          null,
          "Israel",
          null,
          null,
          null
         ],
         "origins_tags": [
          "en:peru",
          null,
          null,
          null,
          "en:peru",
          "en:spain,en:peru",
          "en:chile,en:peru",
          null,
          null,
          "en:israel",
          null,
          null,
          null
         ],
         "packaging_tags": [
          null,
          null,
          "en:mixed-plastic-unknown",
          "en:card-tray,en:ldpe-bag",
          "en:mixed-plastic-film-packet-to-recycle",
          "en:mixed-plastic-bag",
          "en:mixed-plastic-packet,en:plastic-film",
          null,
          "en:card-tray,en:mixed-plastic-sleeve",
          "en:card-tray,en:ldpe-bag",
          "en:mixed-plastic-film-packet",
          "en:ldpe-bag",
          null
         ],
         "product_name_en": [
          "Avacado",
          "Avocado",
          "Avocado",
          "Avacados organic",
          "Just Essentials Avocados",
          "Ready to Eat Avocados",
          "Avocado",
          "Avocado",
          "Rich & creamy avocados",
          "Ripe & ready medium avocados",
          "Avocados",
          "Avocados",
          "Extra large avocado"
         ],
         "quantity": [
          "650 g",
          null,
          "100 g",
          null,
          "4pack",
          "2",
          "2",
          null,
          null,
          "2",
          null,
          null,
          "1 avocado"
         ],
         "serving_size": [
          null,
          null,
          null,
          null,
          null,
          null,
          "80g",
          "100 g",
          null,
          null,
          null,
          null,
          null
         ]
        },
        "schema": {
         "fields": [
          {
           "name": "index",
           "type": "integer"
          },
          {
           "name": "code",
           "type": "string"
          },
          {
           "name": "lc",
           "type": "string"
          },
          {
           "name": "product_name_en",
           "type": "string"
          },
          {
           "name": "quantity",
           "type": "string"
          },
          {
           "name": "serving_size",
           "type": "string"
          },
          {
           "name": "packaging_tags",
           "type": "string"
          },
          {
           "name": "brands",
           "type": "string"
          },
          {
           "name": "brands_tags",
           "type": "string"
          },
          {
           "name": "categories_tags",
           "type": "string"
          },
          {
           "name": "labels_tags",
           "type": "string"
          },
          {
           "name": "countries",
           "type": "string"
          },
          {
           "name": "countries_tags",
           "type": "string"
          },
          {
           "name": "origins",
           "type": "string"
          },
          {
           "name": "origins_tags",
           "type": "string"
          }
         ],
         "pandas_version": "1.4.0",
         "primaryKey": [
          "index"
         ]
        }
       },
       "total_rows": 13,
       "truncation_type": null
      },
      "text/html": [
       "<div>\n",
       "<style scoped>\n",
       "    .dataframe tbody tr th:only-of-type {\n",
       "        vertical-align: middle;\n",
       "    }\n",
       "\n",
       "    .dataframe tbody tr th {\n",
       "        vertical-align: top;\n",
       "    }\n",
       "\n",
       "    .dataframe thead th {\n",
       "        text-align: right;\n",
       "    }\n",
       "</style>\n",
       "<table border=\"1\" class=\"dataframe\">\n",
       "  <thead>\n",
       "    <tr style=\"text-align: right;\">\n",
       "      <th></th>\n",
       "      <th>code</th>\n",
       "      <th>lc</th>\n",
       "      <th>product_name_en</th>\n",
       "      <th>quantity</th>\n",
       "      <th>serving_size</th>\n",
       "      <th>packaging_tags</th>\n",
       "      <th>brands</th>\n",
       "      <th>brands_tags</th>\n",
       "      <th>categories_tags</th>\n",
       "      <th>labels_tags</th>\n",
       "      <th>countries</th>\n",
       "      <th>countries_tags</th>\n",
       "      <th>origins</th>\n",
       "      <th>origins_tags</th>\n",
       "    </tr>\n",
       "  </thead>\n",
       "  <tbody>\n",
       "    <tr>\n",
       "      <th>361</th>\n",
       "      <td>00985833</td>\n",
       "      <td>en</td>\n",
       "      <td>Avacado</td>\n",
       "      <td>650 g</td>\n",
       "      <td>NaN</td>\n",
       "      <td>NaN</td>\n",
       "      <td>Marks &amp; Spencer</td>\n",
       "      <td>marks-spencer</td>\n",
       "      <td>en:plant-based-foods-and-beverages,en:plant-ba...</td>\n",
       "      <td>NaN</td>\n",
       "      <td>United Kingdom</td>\n",
       "      <td>en:united-kingdom</td>\n",
       "      <td>Peru</td>\n",
       "      <td>en:peru</td>\n",
       "    </tr>\n",
       "    <tr>\n",
       "      <th>381</th>\n",
       "      <td>00040464</td>\n",
       "      <td>en</td>\n",
       "      <td>Avocado</td>\n",
       "      <td>NaN</td>\n",
       "      <td>NaN</td>\n",
       "      <td>NaN</td>\n",
       "      <td>NaN</td>\n",
       "      <td>NaN</td>\n",
       "      <td>en:plant-based-foods-and-beverages,en:plant-ba...</td>\n",
       "      <td>NaN</td>\n",
       "      <td>United Kingdom</td>\n",
       "      <td>en:united-kingdom</td>\n",
       "      <td>NaN</td>\n",
       "      <td>NaN</td>\n",
       "    </tr>\n",
       "    <tr>\n",
       "      <th>414</th>\n",
       "      <td>4088600100173</td>\n",
       "      <td>en</td>\n",
       "      <td>Avocado</td>\n",
       "      <td>100 g</td>\n",
       "      <td>NaN</td>\n",
       "      <td>en:mixed-plastic-unknown</td>\n",
       "      <td>Aldi</td>\n",
       "      <td>aldi</td>\n",
       "      <td>en:plant-based-foods-and-beverages,en:plant-ba...</td>\n",
       "      <td>NaN</td>\n",
       "      <td>United Kingdom</td>\n",
       "      <td>en:united-kingdom</td>\n",
       "      <td>NaN</td>\n",
       "      <td>NaN</td>\n",
       "    </tr>\n",
       "    <tr>\n",
       "      <th>468</th>\n",
       "      <td>01307351</td>\n",
       "      <td>en</td>\n",
       "      <td>Avacados organic</td>\n",
       "      <td>NaN</td>\n",
       "      <td>NaN</td>\n",
       "      <td>en:card-tray,en:ldpe-bag</td>\n",
       "      <td>Sainsbury’s SO organic</td>\n",
       "      <td>sainsbury-s-so-organic</td>\n",
       "      <td>en:plant-based-foods-and-beverages,en:plant-ba...</td>\n",
       "      <td>en:organic,en:eu-organic,en:non-eu-agriculture...</td>\n",
       "      <td>United Kingdom</td>\n",
       "      <td>en:united-kingdom</td>\n",
       "      <td>NaN</td>\n",
       "      <td>NaN</td>\n",
       "    </tr>\n",
       "    <tr>\n",
       "      <th>508</th>\n",
       "      <td>5057172125395</td>\n",
       "      <td>en</td>\n",
       "      <td>Just Essentials Avocados</td>\n",
       "      <td>4pack</td>\n",
       "      <td>NaN</td>\n",
       "      <td>en:mixed-plastic-film-packet-to-recycle</td>\n",
       "      <td>Asda</td>\n",
       "      <td>asda</td>\n",
       "      <td>en:plant-based-foods-and-beverages,en:plant-ba...</td>\n",
       "      <td>en:class-i,en:contains-stones</td>\n",
       "      <td>United Kingdom</td>\n",
       "      <td>en:united-kingdom</td>\n",
       "      <td>Peru</td>\n",
       "      <td>en:peru</td>\n",
       "    </tr>\n",
       "    <tr>\n",
       "      <th>510</th>\n",
       "      <td>23066755</td>\n",
       "      <td>en</td>\n",
       "      <td>Ready to Eat Avocados</td>\n",
       "      <td>2</td>\n",
       "      <td>NaN</td>\n",
       "      <td>en:mixed-plastic-bag</td>\n",
       "      <td>Asda</td>\n",
       "      <td>asda</td>\n",
       "      <td>en:plant-based-foods-and-beverages,en:plant-ba...</td>\n",
       "      <td>NaN</td>\n",
       "      <td>United Kingdom</td>\n",
       "      <td>en:united-kingdom</td>\n",
       "      <td>Spain, Peru</td>\n",
       "      <td>en:spain,en:peru</td>\n",
       "    </tr>\n",
       "    <tr>\n",
       "      <th>708</th>\n",
       "      <td>03201985</td>\n",
       "      <td>en</td>\n",
       "      <td>Avocado</td>\n",
       "      <td>2</td>\n",
       "      <td>80g</td>\n",
       "      <td>en:mixed-plastic-packet,en:plastic-film</td>\n",
       "      <td>Tesco</td>\n",
       "      <td>tesco</td>\n",
       "      <td>en:plant-based-foods-and-beverages,en:plant-ba...</td>\n",
       "      <td>en:tesco-nurture,en:vitamin-e-source</td>\n",
       "      <td>United Kingdom</td>\n",
       "      <td>en:united-kingdom</td>\n",
       "      <td>Chile, Peru</td>\n",
       "      <td>en:chile,en:peru</td>\n",
       "    </tr>\n",
       "    <tr>\n",
       "      <th>781</th>\n",
       "      <td>10096369</td>\n",
       "      <td>en</td>\n",
       "      <td>Avocado</td>\n",
       "      <td>NaN</td>\n",
       "      <td>100 g</td>\n",
       "      <td>NaN</td>\n",
       "      <td>Tesco</td>\n",
       "      <td>tesco</td>\n",
       "      <td>en:plant-based-foods-and-beverages,en:plant-ba...</td>\n",
       "      <td>NaN</td>\n",
       "      <td>United Kingdom</td>\n",
       "      <td>en:united-kingdom</td>\n",
       "      <td>NaN</td>\n",
       "      <td>NaN</td>\n",
       "    </tr>\n",
       "    <tr>\n",
       "      <th>850</th>\n",
       "      <td>00184915</td>\n",
       "      <td>en</td>\n",
       "      <td>Rich &amp; creamy avocados</td>\n",
       "      <td>NaN</td>\n",
       "      <td>NaN</td>\n",
       "      <td>en:card-tray,en:mixed-plastic-sleeve</td>\n",
       "      <td>By Sainsbury's</td>\n",
       "      <td>by-sainsbury-s</td>\n",
       "      <td>en:plant-based-foods-and-beverages,en:plant-ba...</td>\n",
       "      <td>NaN</td>\n",
       "      <td>United Kingdom</td>\n",
       "      <td>en:united-kingdom</td>\n",
       "      <td>NaN</td>\n",
       "      <td>NaN</td>\n",
       "    </tr>\n",
       "    <tr>\n",
       "      <th>1190</th>\n",
       "      <td>01600322</td>\n",
       "      <td>en</td>\n",
       "      <td>Ripe &amp; ready medium avocados</td>\n",
       "      <td>2</td>\n",
       "      <td>NaN</td>\n",
       "      <td>en:card-tray,en:ldpe-bag</td>\n",
       "      <td>Sainsbury's</td>\n",
       "      <td>sainsbury-s</td>\n",
       "      <td>en:plant-based-foods-and-beverages,en:plant-ba...</td>\n",
       "      <td>en:class-i</td>\n",
       "      <td>United Kingdom</td>\n",
       "      <td>en:united-kingdom</td>\n",
       "      <td>Israel</td>\n",
       "      <td>en:israel</td>\n",
       "    </tr>\n",
       "    <tr>\n",
       "      <th>1301</th>\n",
       "      <td>5000128606387</td>\n",
       "      <td>en</td>\n",
       "      <td>Avocados</td>\n",
       "      <td>NaN</td>\n",
       "      <td>NaN</td>\n",
       "      <td>en:mixed-plastic-film-packet</td>\n",
       "      <td>Co op</td>\n",
       "      <td>co-op</td>\n",
       "      <td>en:plant-based-foods-and-beverages,en:plant-ba...</td>\n",
       "      <td>NaN</td>\n",
       "      <td>United Kingdom</td>\n",
       "      <td>en:united-kingdom</td>\n",
       "      <td>NaN</td>\n",
       "      <td>NaN</td>\n",
       "    </tr>\n",
       "    <tr>\n",
       "      <th>1413</th>\n",
       "      <td>2322725400995</td>\n",
       "      <td>en</td>\n",
       "      <td>Avocados</td>\n",
       "      <td>NaN</td>\n",
       "      <td>NaN</td>\n",
       "      <td>en:ldpe-bag</td>\n",
       "      <td>Morrisons</td>\n",
       "      <td>morrisons</td>\n",
       "      <td>en:plant-based-foods-and-beverages,en:plant-ba...</td>\n",
       "      <td>NaN</td>\n",
       "      <td>United Kingdom</td>\n",
       "      <td>en:united-kingdom</td>\n",
       "      <td>NaN</td>\n",
       "      <td>NaN</td>\n",
       "    </tr>\n",
       "    <tr>\n",
       "      <th>1771</th>\n",
       "      <td>5010251741985</td>\n",
       "      <td>en</td>\n",
       "      <td>Extra large avocado</td>\n",
       "      <td>1 avocado</td>\n",
       "      <td>NaN</td>\n",
       "      <td>NaN</td>\n",
       "      <td>Morrisons</td>\n",
       "      <td>morrisons</td>\n",
       "      <td>en:plant-based-foods-and-beverages,en:plant-ba...</td>\n",
       "      <td>NaN</td>\n",
       "      <td>United Kingdom</td>\n",
       "      <td>en:united-kingdom</td>\n",
       "      <td>NaN</td>\n",
       "      <td>NaN</td>\n",
       "    </tr>\n",
       "  </tbody>\n",
       "</table>\n",
       "</div>"
      ],
      "text/plain": [
       "               code  lc  ...      origins      origins_tags\n",
       "361        00985833  en  ...         Peru           en:peru\n",
       "381        00040464  en  ...          NaN               NaN\n",
       "414   4088600100173  en  ...          NaN               NaN\n",
       "468        01307351  en  ...          NaN               NaN\n",
       "508   5057172125395  en  ...         Peru           en:peru\n",
       "510        23066755  en  ...  Spain, Peru  en:spain,en:peru\n",
       "708        03201985  en  ...  Chile, Peru  en:chile,en:peru\n",
       "781        10096369  en  ...          NaN               NaN\n",
       "850        00184915  en  ...          NaN               NaN\n",
       "1190       01600322  en  ...       Israel         en:israel\n",
       "1301  5000128606387  en  ...          NaN               NaN\n",
       "1413  2322725400995  en  ...          NaN               NaN\n",
       "1771  5010251741985  en  ...          NaN               NaN\n",
       "\n",
       "[13 rows x 14 columns]"
      ]
     },
     "execution_count": 80,
     "metadata": {},
     "output_type": "execute_result"
    }
   ],
   "source": [
    "avocado_UK = avocado_df[avocado_df[\"countries\"] == \"United Kingdom\"]\n",
    "avocado_UK"
   ]
  },
  {
   "cell_type": "code",
   "execution_count": 81,
   "id": "c096e07c-bba3-4b80-9d3b-03d32f4908fc",
   "metadata": {
    "executionCancelledAt": null,
    "executionTime": 53,
    "lastExecutedAt": 1733913448350,
    "lastExecutedByKernel": "d63be3d7-23b2-4de7-9cf6-1f2d8a38d224",
    "lastScheduledRunId": null,
    "lastSuccessfullyExecutedCode": "avocado_UK[\"origins\"].str.split().explode().str.replace(\",\", \"\").value_counts()",
    "outputsMetadata": {
     "0": {
      "height": 194,
      "type": "dataFrame"
     }
    }
   },
   "outputs": [
    {
     "data": {
      "application/com.datacamp.data-table.v2+json": {
       "table": {
        "data": {
         "index": [
          "Peru",
          "Spain",
          "Chile",
          "Israel"
         ],
         "origins": [
          4,
          1,
          1,
          1
         ]
        },
        "schema": {
         "fields": [
          {
           "name": "index",
           "type": "string"
          },
          {
           "name": "origins",
           "type": "integer"
          }
         ],
         "pandas_version": "1.4.0",
         "primaryKey": [
          "index"
         ]
        }
       },
       "total_rows": 4,
       "truncation_type": null
      },
      "text/plain": [
       "Peru      4\n",
       "Spain     1\n",
       "Chile     1\n",
       "Israel    1\n",
       "Name: origins, dtype: int64"
      ]
     },
     "execution_count": 81,
     "metadata": {},
     "output_type": "execute_result"
    }
   ],
   "source": [
    "avocado_UK[\"origins\"].str.split().explode().str.replace(\",\", \"\").value_counts()"
   ]
  },
  {
   "cell_type": "code",
   "execution_count": 82,
   "id": "ce62f68f-609a-4821-bcf2-34d8a86ff00f",
   "metadata": {
    "executionCancelledAt": null,
    "executionTime": 52,
    "lastExecutedAt": 1733913448402,
    "lastExecutedByKernel": "d63be3d7-23b2-4de7-9cf6-1f2d8a38d224",
    "lastScheduledRunId": null,
    "lastSuccessfullyExecutedCode": "top_avocado_origin = avocado_UK[\"origins\"].str.split().explode().str.replace(\",\", \"\").value_counts().index[0]\ntop_avocado_origin"
   },
   "outputs": [
    {
     "data": {
      "text/plain": [
       "'Peru'"
      ]
     },
     "execution_count": 82,
     "metadata": {},
     "output_type": "execute_result"
    }
   ],
   "source": [
    "top_avocado_origin = avocado_UK[\"origins\"].str.split().explode().str.replace(\",\", \"\").value_counts().index[0]\n",
    "top_avocado_origin"
   ]
  },
  {
   "cell_type": "code",
   "execution_count": 83,
   "id": "a6afc355-c1dc-4074-9c4e-4b42a3bff09a",
   "metadata": {
    "executionCancelledAt": null,
    "executionTime": 51,
    "lastExecutedAt": 1733913448453,
    "lastExecutedByKernel": "d63be3d7-23b2-4de7-9cf6-1f2d8a38d224",
    "lastScheduledRunId": null,
    "lastSuccessfullyExecutedCode": "def top_origin(ingredient, country = \"United Kingdom\"):\n    #wczytanie pliku csv\n    ing_df = pd.read_csv(\"data/\" + ingredient + \".csv\", sep='\\t')\n    ing_df = ing_df[['code', 'lc', 'product_name_en', 'quantity', 'serving_size', 'packaging_tags', 'brands',               'brands_tags', 'categories_tags', 'labels_tags', 'countries', 'countries_tags', 'origins', 'origins_tags']]\n    \n    #wczytanie listy tagów z pliku txt\n    ing_tags_open = open(\"data/relevant_\" + ingredient + \"_categories.txt\", \"r\")\n    ing_tags = ing_tags_open.read()\n    ing_tags = ing_tags.split()\n    \n    #filtrowanie danych po tagach\n    filtr = ing_df[\"categories_tags\"].str.split(\",\").dropna().apply(lambda x: any([b for b in x if b in ing_tags]))\n    ing_df = ing_df.dropna(subset='categories_tags')\n    ing_df = ing_df[filtr]\n    \n    #filtrowanie danych po kraju, do którego dostarczono produkt\n    ing_country = ing_df[ing_df[\"countries\"] == country]\n    \n    #zliczanie krajów pochodzenia\n    top_ingredient_origin = ing_country[\"origins\"].str.split(\",\").explode().str.replace(\",\", \"\").value_counts().index[0]\n    return top_ingredient_origin"
   },
   "outputs": [],
   "source": [
    "def top_origin(ingredient, country = \"United Kingdom\"):\n",
    "    #wczytanie pliku csv\n",
    "    ing_df = pd.read_csv(\"data/\" + ingredient + \".csv\", sep='\\t')\n",
    "    ing_df = ing_df[['code', 'lc', 'product_name_en', 'quantity', 'serving_size', 'packaging_tags', 'brands',               'brands_tags', 'categories_tags', 'labels_tags', 'countries', 'countries_tags', 'origins', 'origins_tags']]\n",
    "    \n",
    "    #wczytanie listy tagów z pliku txt\n",
    "    ing_tags_open = open(\"data/relevant_\" + ingredient + \"_categories.txt\", \"r\")\n",
    "    ing_tags = ing_tags_open.read()\n",
    "    ing_tags = ing_tags.split()\n",
    "    \n",
    "    #filtrowanie danych po tagach\n",
    "    filtr = ing_df[\"categories_tags\"].str.split(\",\").dropna().apply(lambda x: any([b for b in x if b in ing_tags]))\n",
    "    ing_df = ing_df.dropna(subset='categories_tags')\n",
    "    ing_df = ing_df[filtr]\n",
    "    \n",
    "    #filtrowanie danych po kraju, do którego dostarczono produkt\n",
    "    ing_country = ing_df[ing_df[\"countries\"] == country]\n",
    "    \n",
    "    #zliczanie krajów pochodzenia\n",
    "    top_ingredient_origin = ing_country[\"origins\"].str.split(\",\").explode().str.replace(\",\", \"\").value_counts().index[0]\n",
    "    return top_ingredient_origin"
   ]
  },
  {
   "cell_type": "code",
   "execution_count": 84,
   "id": "c09d9013-b3fd-43d4-99d1-2fb23435d6e0",
   "metadata": {
    "executionCancelledAt": null,
    "executionTime": 400,
    "lastExecutedAt": 1733913448855,
    "lastExecutedByKernel": "d63be3d7-23b2-4de7-9cf6-1f2d8a38d224",
    "lastScheduledRunId": null,
    "lastSuccessfullyExecutedCode": "top_olive_oil_origin = top_origin(\"olive_oil\")\ntop_olive_oil_origin",
    "outputsMetadata": {
     "0": {
      "height": 311,
      "type": "stream"
     }
    }
   },
   "outputs": [
    {
     "data": {
      "text/plain": [
       "'Greece'"
      ]
     },
     "execution_count": 84,
     "metadata": {},
     "output_type": "execute_result"
    }
   ],
   "source": [
    "top_olive_oil_origin = top_origin(\"olive_oil\")\n",
    "top_olive_oil_origin"
   ]
  },
  {
   "cell_type": "code",
   "execution_count": 85,
   "id": "7bc8eaf0-c05e-4936-9cee-c47c6d1dda82",
   "metadata": {
    "executionCancelledAt": null,
    "executionTime": 59,
    "lastExecutedAt": 1733913448914,
    "lastExecutedByKernel": "d63be3d7-23b2-4de7-9cf6-1f2d8a38d224",
    "lastScheduledRunId": null,
    "lastSuccessfullyExecutedCode": "top_sourdough_origin = top_origin(\"sourdough\")\ntop_sourdough_origin",
    "outputsMetadata": {
     "0": {
      "height": 616,
      "type": "stream"
     }
    }
   },
   "outputs": [
    {
     "data": {
      "text/plain": [
       "'United Kingdom'"
      ]
     },
     "execution_count": 85,
     "metadata": {},
     "output_type": "execute_result"
    }
   ],
   "source": [
    "top_sourdough_origin = top_origin(\"sourdough\")\n",
    "top_sourdough_origin"
   ]
  },
  {
   "cell_type": "code",
   "execution_count": 86,
   "id": "5021091e-5c22-4d5a-b741-dd5adffd0226",
   "metadata": {
    "executionCancelledAt": null,
    "executionTime": 56,
    "lastExecutedAt": 1733913448970,
    "lastExecutedByKernel": "d63be3d7-23b2-4de7-9cf6-1f2d8a38d224",
    "lastScheduledRunId": null,
    "lastSuccessfullyExecutedCode": "top_avocado_origin = top_origin(\"avocado\")\ntop_avocado_origin"
   },
   "outputs": [
    {
     "data": {
      "text/plain": [
       "'Peru'"
      ]
     },
     "execution_count": 86,
     "metadata": {},
     "output_type": "execute_result"
    }
   ],
   "source": [
    "top_avocado_origin = top_origin(\"avocado\")\n",
    "top_avocado_origin"
   ]
  }
 ],
 "metadata": {
  "colab": {
   "name": "Welcome to DataCamp Workspaces.ipynb",
   "provenance": []
  },
  "kernelspec": {
   "display_name": "Python 3 (ipykernel)",
   "language": "python",
   "name": "python3"
  },
  "language_info": {
   "codemirror_mode": {
    "name": "ipython",
    "version": 3
   },
   "file_extension": ".py",
   "mimetype": "text/x-python",
   "name": "python",
   "nbconvert_exporter": "python",
   "pygments_lexer": "ipython3",
   "version": "3.12.7"
  }
 },
 "nbformat": 4,
 "nbformat_minor": 5
}
